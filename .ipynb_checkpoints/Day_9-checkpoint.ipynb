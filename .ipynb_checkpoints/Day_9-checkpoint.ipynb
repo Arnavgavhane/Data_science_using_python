{
 "cells": [
  {
   "cell_type": "markdown",
   "id": "80dd9964-cf4a-4c3c-bedd-4206761d1bfe",
   "metadata": {},
   "source": [
    "# machine learning"
   ]
  },
  {
   "cell_type": "markdown",
   "id": "348449ef-ac27-4402-b8a3-09fca38ca3eb",
   "metadata": {},
   "source": [
    "#### machine learning is the field of studying that gives computers the ability to learn from data\n",
    "#### without being explicitly programmed"
   ]
  },
  {
   "cell_type": "markdown",
   "id": "02ac9d11-2473-406e-9d45-8873ef684186",
   "metadata": {},
   "source": [
    "### key points\n",
    "#### instead of writing the program\n"
   ]
  },
  {
   "cell_type": "code",
   "execution_count": null,
   "id": "01aa6bf7-5de2-43a5-b909-a1abb99310f3",
   "metadata": {},
   "outputs": [],
   "source": []
  }
 ],
 "metadata": {
  "kernelspec": {
   "display_name": "Python 3 (ipykernel)",
   "language": "python",
   "name": "python3"
  },
  "language_info": {
   "codemirror_mode": {
    "name": "ipython",
    "version": 3
   },
   "file_extension": ".py",
   "mimetype": "text/x-python",
   "name": "python",
   "nbconvert_exporter": "python",
   "pygments_lexer": "ipython3",
   "version": "3.13.5"
  }
 },
 "nbformat": 4,
 "nbformat_minor": 5
}
