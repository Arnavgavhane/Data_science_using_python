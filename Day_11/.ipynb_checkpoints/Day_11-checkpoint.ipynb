{
 "cells": [
  {
   "cell_type": "markdown",
   "id": "6e405158-d9cc-4ce8-a5af-a0e6a1f021d5",
   "metadata": {},
   "source": [
    "# linear regression"
   ]
  },
  {
   "cell_type": "markdown",
   "id": "4f8d6bd7-bf64-4e4b-8940-7d995283948d",
   "metadata": {},
   "source": [
    "## salary,experience prediction"
   ]
  },
  {
   "cell_type": "code",
   "execution_count": 2,
   "id": "e5ac45dd-69d7-4cda-9435-7631ac2eae13",
   "metadata": {},
   "outputs": [],
   "source": [
    "import pandas as pd\n",
    "import matplotlib.pyplot as plt\n",
    "import numpy as np\n",
    "from sklearn.linear_model import LinearRegression\n",
    "from sklearn.model_selection import train_test_split\n",
    "from sklearn.metrics import r2_score"
   ]
  },
  {
   "cell_type": "code",
   "execution_count": null,
   "id": "f76ea657-9d68-4e14-84e8-b8d022fbc1b4",
   "metadata": {},
   "outputs": [],
   "source": [
    "| step | what it does | "
   ]
  }
 ],
 "metadata": {
  "kernelspec": {
   "display_name": "Python 3 (ipykernel)",
   "language": "python",
   "name": "python3"
  },
  "language_info": {
   "codemirror_mode": {
    "name": "ipython",
    "version": 3
   },
   "file_extension": ".py",
   "mimetype": "text/x-python",
   "name": "python",
   "nbconvert_exporter": "python",
   "pygments_lexer": "ipython3",
   "version": "3.13.5"
  }
 },
 "nbformat": 4,
 "nbformat_minor": 5
}
