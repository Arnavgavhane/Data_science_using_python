{
 "cells": [
  {
   "cell_type": "markdown",
   "id": "fff6dd0a-5cc6-4506-9b2f-1c719db6e0d1",
   "metadata": {},
   "source": [
    "# what is CNN"
   ]
  },
  {
   "cell_type": "markdown",
   "id": "aa1bddd6-22fa-4b7f-bbde-9a8c452d9c94",
   "metadata": {},
   "source": [
    "CNN are special neural network for images\n",
    "they learn to detect patterns like\n",
    "- edges\n",
    "- shapes\n",
    "- textures\n",
    "- objects "
   ]
  },
  {
   "cell_type": "markdown",
   "id": "c2cad016-47d7-4001-8568-3cce6ec6345f",
   "metadata": {},
   "source": [
    "instead of feeding raw image pixels to a normal ANN, CNN uses filters (kernels) that slide over the image and extract features just like your eyes scanning an object "
   ]
  },
  {
   "cell_type": "markdown",
   "id": "b9582b54-66f6-4c62-88fa-256474987689",
   "metadata": {},
   "source": [
    "Input image\n",
    "↓\n",
    "convolution→ →"
   ]
  },
  {
   "cell_type": "markdown",
   "id": "59df78d2-7ccc-428c-80d4-b4d191632dda",
   "metadata": {},
   "source": [
    "## dataset : mnist(28*28 images of digits 0-9)"
   ]
  },
  {
   "cell_type": "markdown",
   "id": "722fab3a-b904-4047-a993-a29caa38d143",
   "metadata": {},
   "source": [
    "- each image is 28*28 pixel\n",
    "- gray scale\n",
    "- labelled with the correct digit (0-9)"
   ]
  },
  {
   "cell_type": "code",
   "execution_count": 1,
   "id": "a41b01b4-d970-4a70-97d3-50895474fb9a",
   "metadata": {},
   "outputs": [],
   "source": [
    "import matplotlib.pyplot as plt\n",
    "import tensorflow as tf\n",
    "from tensorflow.keras.models import Sequential\n",
    "from tensorflow.keras.datasets import mnist\n",
    "from tensorflow.keras.utils import to_categorical\n",
    "from tensorflow.keras.layers import Conv2D, MaxPooling2D, Flatten, Dense, Dropout"
   ]
  },
  {
   "cell_type": "code",
   "execution_count": 2,
   "id": "9672631c-7434-4a35-a43a-9fba9498fdc4",
   "metadata": {},
   "outputs": [
    {
     "name": "stdout",
     "output_type": "stream",
     "text": [
      "Test shape: (60000, 28, 28, 1)\n",
      "test shape: (10000, 28, 28, 1)\n"
     ]
    }
   ],
   "source": [
    "# Load dataset\n",
    "(X_train,y_train), (X_test,y_test)= mnist.load_data()\n",
    "# Reshape for CNN : (samples, height, width, channels)\n",
    "X_train= X_train.reshape(-1,28,28,1).astype(\"float32\")/255\n",
    "X_test= X_test.reshape(-1,28,28,1).astype(\"float32\")/255\n",
    "# One-hot encode labels\n",
    "y_train =to_categorical(y_train)\n",
    "y_test= to_categorical(y_test)\n",
    "print(\"Test shape:\",X_train.shape)\n",
    "print(\"test shape:\",X_test.shape)"
   ]
  },
  {
   "cell_type": "markdown",
   "id": "501b0b4d-e47f-4d38-a854-b7d41df27a43",
   "metadata": {},
   "source": [
    "### Build CNN Model"
   ]
  },
  {
   "cell_type": "code",
   "execution_count": 3,
   "id": "0958f55c-5cab-4cba-bf34-a45b58791f07",
   "metadata": {},
   "outputs": [
    {
     "name": "stderr",
     "output_type": "stream",
     "text": [
      "C:\\Users\\dell\\AppData\\Local\\Programs\\Python\\Python313\\Lib\\site-packages\\keras\\src\\layers\\convolutional\\base_conv.py:113: UserWarning: Do not pass an `input_shape`/`input_dim` argument to a layer. When using Sequential models, prefer using an `Input(shape)` object as the first layer in the model instead.\n",
      "  super().__init__(activity_regularizer=activity_regularizer, **kwargs)\n"
     ]
    }
   ],
   "source": [
    "model= Sequential()\n",
    "# Conv Layer 1\n",
    "model.add(Conv2D(32,kernel_size=(3,3),activation=\"relu\",input_shape=(28,28,1)))\n",
    "# Pooling Layer\n",
    "model.add(MaxPooling2D(pool_size=(2,2)))\n",
    "\n",
    "# Conv Layer 2\n",
    "model.add(Conv2D(64,kernel_size=(3,3),activation=\"relu\"))\n",
    "model.add(MaxPooling2D(pool_size=(2,2)))\n",
    "# Flatten before Dense layers\n",
    "model.add(Flatten())\n",
    "\n",
    "# Fully connected layer\n",
    "model.add(Dense(128,activation='relu'))\n",
    "\n",
    "#Output layer (10 digits)\n",
    "model.add(Dense(10,activation='softmax'))"
   ]
  },
  {
   "cell_type": "markdown",
   "id": "b0111ea6-2ff2-4ddb-adb5-5e9fa54e5e4f",
   "metadata": {},
   "source": [
    "### compile model"
   ]
  },
  {
   "cell_type": "code",
   "execution_count": 8,
   "id": "2a42d0b1-b356-425b-9057-cf5f9b5677ba",
   "metadata": {},
   "outputs": [],
   "source": [
    "model.compile(optimizer='adam',loss='categorical_crossentropy',metrics=['accuracy'])"
   ]
  },
  {
   "cell_type": "markdown",
   "id": "e3dfab41-9059-42d2-ad9a-3497204ddae1",
   "metadata": {},
   "source": [
    "### Train the Model"
   ]
  },
  {
   "cell_type": "code",
   "execution_count": 9,
   "id": "13d49d4b-c6d1-4372-a14a-4093ef7af091",
   "metadata": {},
   "outputs": [
    {
     "name": "stdout",
     "output_type": "stream",
     "text": [
      "Epoch 1/5\n",
      "\u001b[1m422/422\u001b[0m \u001b[32m━━━━━━━━━━━━━━━━━━━━\u001b[0m\u001b[37m\u001b[0m \u001b[1m28s\u001b[0m 55ms/step - accuracy: 0.9342 - loss: 0.2232 - val_accuracy: 0.9807 - val_loss: 0.0655\n",
      "Epoch 2/5\n",
      "\u001b[1m422/422\u001b[0m \u001b[32m━━━━━━━━━━━━━━━━━━━━\u001b[0m\u001b[37m\u001b[0m \u001b[1m40s\u001b[0m 54ms/step - accuracy: 0.9815 - loss: 0.0581 - val_accuracy: 0.9855 - val_loss: 0.0512\n",
      "Epoch 3/5\n",
      "\u001b[1m422/422\u001b[0m \u001b[32m━━━━━━━━━━━━━━━━━━━━\u001b[0m\u001b[37m\u001b[0m \u001b[1m24s\u001b[0m 56ms/step - accuracy: 0.9868 - loss: 0.0419 - val_accuracy: 0.9887 - val_loss: 0.0373\n",
      "Epoch 4/5\n",
      "\u001b[1m422/422\u001b[0m \u001b[32m━━━━━━━━━━━━━━━━━━━━\u001b[0m\u001b[37m\u001b[0m \u001b[1m23s\u001b[0m 54ms/step - accuracy: 0.9901 - loss: 0.0324 - val_accuracy: 0.9878 - val_loss: 0.0447\n",
      "Epoch 5/5\n",
      "\u001b[1m422/422\u001b[0m \u001b[32m━━━━━━━━━━━━━━━━━━━━\u001b[0m\u001b[37m\u001b[0m \u001b[1m23s\u001b[0m 55ms/step - accuracy: 0.9929 - loss: 0.0234 - val_accuracy: 0.9895 - val_loss: 0.0399\n"
     ]
    }
   ],
   "source": [
    "history=model.fit(X_train,y_train, epochs=5,batch_size=128,validation_split=0.1)"
   ]
  },
  {
   "cell_type": "markdown",
   "id": "e3ae4cfb-4e34-4ed8-ae9f-a5417c503a81",
   "metadata": {},
   "source": [
    "### Evaluate Performance"
   ]
  },
  {
   "cell_type": "code",
   "execution_count": 10,
   "id": "69dc8002-4a51-427b-9e0e-0a3c4705ef2c",
   "metadata": {},
   "outputs": [
    {
     "name": "stdout",
     "output_type": "stream",
     "text": [
      "\u001b[1m313/313\u001b[0m \u001b[32m━━━━━━━━━━━━━━━━━━━━\u001b[0m\u001b[37m\u001b[0m \u001b[1m3s\u001b[0m 8ms/step - accuracy: 0.9891 - loss: 0.0314\n",
      "Test Accuracy : 0.99\n"
     ]
    }
   ],
   "source": [
    "test_loss,test_acc=model.evaluate(X_test,y_test)\n",
    "print(f\"Test Accuracy : {test_acc:.2f}\")"
   ]
  },
  {
   "cell_type": "markdown",
   "id": "5f9a95ad-399e-421c-b8f7-51770df18b66",
   "metadata": {},
   "source": [
    "### Visualize Training History"
   ]
  },
  {
   "cell_type": "code",
   "execution_count": 11,
   "id": "070ac54d-b4c0-43bc-868e-21b44994e381",
   "metadata": {},
   "outputs": [
    {
     "data": {
      "image/png": "[encoded data removed]",
      "text/plain": [
       "<Figure size 640x480 with 1 Axes>"
      ]
     },
     "metadata": {},
     "output_type": "display_data"
    }
   ],
   "source": [
    "plt.plot(history.history['accuracy'],label='Train Accuracy')\n",
    "plt.plot(history.history['val_accuracy'], label=\"Validation Accuracy\")\n",
    "plt.xlabel(\"Epochs\")\n",
    "plt.ylabel(\"Accuracy\")\n",
    "plt.title(\"CNN Training Accuracy\")\n",
    "plt.legend()\n",
    "plt.show()"
   ]
  },
  {
   "cell_type": "code",
   "execution_count": null,
   "id": "10c7fc8c-f81c-4fba-9f09-2c25ef6e5bbc",
   "metadata": {},
   "outputs": [],
   "source": []
  }
 ],
 "metadata": {
  "kernelspec": {
   "display_name": "Python 3 (ipykernel)",
   "language": "python",
   "name": "python3"
  },
  "language_info": {
   "codemirror_mode": {
    "name": "ipython",
    "version": 3
   },
   "file_extension": ".py",
   "mimetype": "text/x-python",
   "name": "python",
   "nbconvert_exporter": "python",
   "pygments_lexer": "ipython3",
   "version": "3.13.5"
  }
 },
 "nbformat": 4,
 "nbformat_minor": 5
}
