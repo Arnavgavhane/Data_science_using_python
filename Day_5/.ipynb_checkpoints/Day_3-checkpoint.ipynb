{
 "cells": [
  {
   "cell_type": "markdown",
   "id": "12b0da7f-b443-4a0f-aaef-b8f8862fd41c",
   "metadata": {},
   "source": [
    "# numpy"
   ]
  },
  {
   "cell_type": "code",
   "execution_count": 144,
   "id": "8f60f2ab-fa85-44cc-8c13-cd409e88234c",
   "metadata": {},
   "outputs": [],
   "source": [
    "import numpy as np"
   ]
  },
  {
   "cell_type": "code",
   "execution_count": 145,
   "id": "045a89b0-8c3e-46bb-965a-03dbd4c59c9d",
   "metadata": {},
   "outputs": [
    {
     "name": "stdout",
     "output_type": "stream",
     "text": [
      "[1 2 3 4]\n"
     ]
    }
   ],
   "source": [
    "array=np.array([1,2,3,4])\n",
    "print(array)"
   ]
  },
  {
   "cell_type": "markdown",
   "id": "9c5118c6-e6cb-455b-8388-f54d6686a695",
   "metadata": {},
   "source": [
    "#### find out no. of dimensions"
   ]
  },
  {
   "cell_type": "code",
   "execution_count": 146,
   "id": "6db215ad-1eda-4ca1-b115-d26207ddba1a",
   "metadata": {},
   "outputs": [
    {
     "name": "stdout",
     "output_type": "stream",
     "text": [
      "1\n"
     ]
    }
   ],
   "source": [
    "print(array.ndim)"
   ]
  },
  {
   "cell_type": "markdown",
   "id": "92249c13-625a-4860-8166-245f3671f020",
   "metadata": {},
   "source": [
    "#### find out data type"
   ]
  },
  {
   "cell_type": "code",
   "execution_count": 147,
   "id": "036719e4-ba49-4edf-94e0-ed8a0b0a7df7",
   "metadata": {},
   "outputs": [
    {
     "name": "stdout",
     "output_type": "stream",
     "text": [
      "int64\n"
     ]
    }
   ],
   "source": [
    "print(array.dtype)"
   ]
  },
  {
   "cell_type": "markdown",
   "id": "24782cfc-a064-47be-8277-39c3e5c500eb",
   "metadata": {},
   "source": [
    "### 2 D array"
   ]
  },
  {
   "cell_type": "code",
   "execution_count": 148,
   "id": "76367858-df45-46db-bd0b-ca48db89f556",
   "metadata": {},
   "outputs": [
    {
     "name": "stdout",
     "output_type": "stream",
     "text": [
      "[[1 2 3]\n",
      " [4 5 6]\n",
      " [6 9 8]]\n"
     ]
    }
   ],
   "source": [
    "array1=np.array([[1,2,3],[4,5,6],[6,9,8]])\n",
    "print(array1)"
   ]
  },
  {
   "cell_type": "code",
   "execution_count": 149,
   "id": "0d486699-90d9-404d-b2f2-297138ddcf7a",
   "metadata": {},
   "outputs": [
    {
     "name": "stdout",
     "output_type": "stream",
     "text": [
      "2\n"
     ]
    }
   ],
   "source": [
    "print(array1.ndim)"
   ]
  },
  {
   "cell_type": "code",
   "execution_count": 150,
   "id": "9c7a04a9-4484-449d-b039-18d9908fc1f5",
   "metadata": {},
   "outputs": [
    {
     "name": "stdout",
     "output_type": "stream",
     "text": [
      "int64\n"
     ]
    }
   ],
   "source": [
    "print(array1.dtype)"
   ]
  },
  {
   "cell_type": "markdown",
   "id": "c30026b2-1d63-4819-91e1-dec5266658f7",
   "metadata": {},
   "source": [
    "### find out the shape of an array (rows and columns)"
   ]
  },
  {
   "cell_type": "code",
   "execution_count": 151,
   "id": "47824b5c-fe6d-40ab-bb24-7ed9a7faedcd",
   "metadata": {},
   "outputs": [
    {
     "name": "stdout",
     "output_type": "stream",
     "text": [
      "(4,)\n"
     ]
    }
   ],
   "source": [
    "print(array.shape)"
   ]
  },
  {
   "cell_type": "code",
   "execution_count": 152,
   "id": "4684779a-baa9-4892-9c4e-c53bf688ea64",
   "metadata": {},
   "outputs": [
    {
     "name": "stdout",
     "output_type": "stream",
     "text": [
      "(3, 3)\n"
     ]
    }
   ],
   "source": [
    "print(array1.shape)"
   ]
  },
  {
   "cell_type": "markdown",
   "id": "c60372f3-7bbf-4d77-b232-371f29f2cf6c",
   "metadata": {},
   "source": [
    "### find the size of an array"
   ]
  },
  {
   "cell_type": "code",
   "execution_count": 153,
   "id": "0dbfd942-2681-4cfc-97d9-d7b463666ea1",
   "metadata": {},
   "outputs": [
    {
     "name": "stdout",
     "output_type": "stream",
     "text": [
      "4\n"
     ]
    }
   ],
   "source": [
    "\n",
    "print(array.size)"
   ]
  },
  {
   "cell_type": "code",
   "execution_count": 154,
   "id": "d9a59097-dd43-4f13-b551-bdb152f8c911",
   "metadata": {},
   "outputs": [
    {
     "name": "stdout",
     "output_type": "stream",
     "text": [
      "9\n"
     ]
    }
   ],
   "source": [
    "print (array1.size)"
   ]
  },
  {
   "cell_type": "code",
   "execution_count": 155,
   "id": "51b5ff10-c47b-4f94-b920-2f29cba4e3af",
   "metadata": {},
   "outputs": [
    {
     "name": "stdout",
     "output_type": "stream",
     "text": [
      "3\n"
     ]
    }
   ],
   "source": [
    "print(array[2])"
   ]
  },
  {
   "cell_type": "code",
   "execution_count": 156,
   "id": "c6e056cd-d3a5-4f56-b8f5-30f9747d55a3",
   "metadata": {},
   "outputs": [
    {
     "name": "stdout",
     "output_type": "stream",
     "text": [
      "[2 4 6]\n"
     ]
    }
   ],
   "source": [
    "arr1=np.array([2,4,6])\n",
    "print(arr1)"
   ]
  },
  {
   "cell_type": "code",
   "execution_count": 157,
   "id": "457ec742-9ecd-4afe-9d69-c28cb37be2d9",
   "metadata": {},
   "outputs": [
    {
     "name": "stdout",
     "output_type": "stream",
     "text": [
      "[ 1  4 10]\n"
     ]
    }
   ],
   "source": [
    "arr2=np.array([1,4,10])\n",
    "print(arr2)"
   ]
  },
  {
   "cell_type": "code",
   "execution_count": 158,
   "id": "2428d33d-3611-440e-905d-4e4f82afbca8",
   "metadata": {},
   "outputs": [
    {
     "name": "stdout",
     "output_type": "stream",
     "text": [
      "[ 1  0 -4]\n"
     ]
    }
   ],
   "source": [
    "print(arr1-arr2)"
   ]
  },
  {
   "cell_type": "code",
   "execution_count": 159,
   "id": "44a94a40-d2ba-4523-a03b-9fbb1cfa3a97",
   "metadata": {},
   "outputs": [
    {
     "name": "stdout",
     "output_type": "stream",
     "text": [
      "[ 3  8 16]\n"
     ]
    }
   ],
   "source": [
    "print(arr1+arr2)"
   ]
  },
  {
   "cell_type": "code",
   "execution_count": 160,
   "id": "372768e0-dda5-40da-b594-81a6ebe5a598",
   "metadata": {},
   "outputs": [
    {
     "name": "stdout",
     "output_type": "stream",
     "text": [
      "[ 2 16 60]\n"
     ]
    }
   ],
   "source": [
    "print(arr1*arr2)"
   ]
  },
  {
   "cell_type": "code",
   "execution_count": 161,
   "id": "bed5fef1-59a4-4b09-83e4-a375d323cd10",
   "metadata": {},
   "outputs": [
    {
     "name": "stdout",
     "output_type": "stream",
     "text": [
      "[2.  1.  0.6]\n"
     ]
    }
   ],
   "source": [
    "print(arr1/arr2)"
   ]
  },
  {
   "cell_type": "code",
   "execution_count": 162,
   "id": "ecf73553-80f7-4332-b742-a2a8bc533ddd",
   "metadata": {},
   "outputs": [
    {
     "name": "stdout",
     "output_type": "stream",
     "text": [
      "[[[1 2 3]\n",
      "  [3 4 5]\n",
      "  [2 5 8]]]\n"
     ]
    }
   ],
   "source": [
    "arr3=np.array([[[1,2,3],[3,4,5],[2,5,8]]])\n",
    "print(arr3)"
   ]
  },
  {
   "cell_type": "code",
   "execution_count": 163,
   "id": "9646f351-2f1c-4409-8366-189402762319",
   "metadata": {},
   "outputs": [
    {
     "data": {
      "text/plain": [
       "9"
      ]
     },
     "execution_count": 163,
     "metadata": {},
     "output_type": "execute_result"
    }
   ],
   "source": [
    "arr3.size"
   ]
  },
  {
   "cell_type": "code",
   "execution_count": 164,
   "id": "ca1a0406-7783-4119-955b-cf977dfca9f8",
   "metadata": {},
   "outputs": [
    {
     "data": {
      "text/plain": [
       "3"
      ]
     },
     "execution_count": 164,
     "metadata": {},
     "output_type": "execute_result"
    }
   ],
   "source": [
    "arr3.ndim"
   ]
  },
  {
   "cell_type": "markdown",
   "id": "2b032bb6-9eba-4adf-b723-2c530d4a083f",
   "metadata": {},
   "source": [
    "### slicing of an array"
   ]
  },
  {
   "cell_type": "code",
   "execution_count": 165,
   "id": "d4f0e6da-8d4b-4ba1-80b9-98e942014a28",
   "metadata": {},
   "outputs": [
    {
     "name": "stdout",
     "output_type": "stream",
     "text": [
      "[1 2 3 4]\n"
     ]
    }
   ],
   "source": [
    "print(array)"
   ]
  },
  {
   "cell_type": "code",
   "execution_count": 166,
   "id": "509b391c-da76-47f8-b0d2-e40e4bc967f9",
   "metadata": {},
   "outputs": [
    {
     "name": "stdout",
     "output_type": "stream",
     "text": [
      "[2 3]\n"
     ]
    }
   ],
   "source": [
    "print(array[1:3])"
   ]
  },
  {
   "cell_type": "code",
   "execution_count": 167,
   "id": "4366437a-0fce-4fd3-bd2f-86fffb74d291",
   "metadata": {},
   "outputs": [
    {
     "name": "stdout",
     "output_type": "stream",
     "text": [
      "[[1 2 3]\n",
      " [4 5 6]\n",
      " [6 9 8]]\n"
     ]
    }
   ],
   "source": [
    "print(array1)"
   ]
  },
  {
   "cell_type": "code",
   "execution_count": 168,
   "id": "9d8efc89-eaf3-499d-9c40-a4aa597f558b",
   "metadata": {},
   "outputs": [
    {
     "name": "stdout",
     "output_type": "stream",
     "text": [
      "[[4 5]\n",
      " [6 9]]\n"
     ]
    }
   ],
   "source": [
    "print(array1[1:3,0:2])"
   ]
  },
  {
   "cell_type": "code",
   "execution_count": 169,
   "id": "b334defa-876e-4c25-89fc-9df0a8cc37c2",
   "metadata": {},
   "outputs": [
    {
     "name": "stdout",
     "output_type": "stream",
     "text": [
      "[[[1 2 3]\n",
      "  [2 3 4]\n",
      "  [3 4 5]]]\n"
     ]
    }
   ],
   "source": [
    "array5=np.array([[[1,2,3,],[2,3,4],[3,4,5]]])\n",
    "print(array5)"
   ]
  },
  {
   "cell_type": "code",
   "execution_count": 170,
   "id": "d3a47054-dd60-4f9a-9e46-27959fee45d4",
   "metadata": {},
   "outputs": [
    {
     "name": "stdout",
     "output_type": "stream",
     "text": [
      "[[[1 2 3]\n",
      "  [2 3 4]\n",
      "  [3 4 5]]]\n"
     ]
    }
   ],
   "source": [
    "print(array5[:,:])"
   ]
  },
  {
   "cell_type": "code",
   "execution_count": 171,
   "id": "3f323dfe-0a27-4905-92d2-c07989725e43",
   "metadata": {},
   "outputs": [
    {
     "name": "stdout",
     "output_type": "stream",
     "text": [
      "[[[1]]]\n"
     ]
    }
   ],
   "source": [
    "print(array5[0:,0:1, 0:1])"
   ]
  },
  {
   "cell_type": "code",
   "execution_count": 172,
   "id": "6a1c7382-376b-4b80-b736-258c1657b4b4",
   "metadata": {},
   "outputs": [
    {
     "name": "stdout",
     "output_type": "stream",
     "text": [
      "[10 11 12 13 14 15 16 17 18 19]\n"
     ]
    }
   ],
   "source": [
    "a1d=np.array([10,11,12,13,14,15,16,17,18,19])\n",
    "print(a1d)"
   ]
  },
  {
   "cell_type": "code",
   "execution_count": 173,
   "id": "316ff6fa-4b72-4b53-bab0-6a80975aa96a",
   "metadata": {},
   "outputs": [
    {
     "name": "stdout",
     "output_type": "stream",
     "text": [
      "[10 11 12 13 14]\n"
     ]
    }
   ],
   "source": [
    "print(a1d[0:5])"
   ]
  },
  {
   "cell_type": "code",
   "execution_count": 174,
   "id": "95f240dc-02a3-4c67-9eb2-910bd53207b9",
   "metadata": {},
   "outputs": [
    {
     "name": "stdout",
     "output_type": "stream",
     "text": [
      "[16 17 18 19]\n"
     ]
    }
   ],
   "source": [
    "print(a1d[6:10])"
   ]
  },
  {
   "cell_type": "code",
   "execution_count": 175,
   "id": "dcd98651-688a-438a-8948-7ff6d0fedadf",
   "metadata": {},
   "outputs": [
    {
     "name": "stdout",
     "output_type": "stream",
     "text": [
      "[[1 2 3]\n",
      " [4 5 6]\n",
      " [7 8 9]]\n"
     ]
    }
   ],
   "source": [
    "a2d=np.array([[1,2,3],[4,5,6],[7,8,9]])\n",
    "print(a2d)"
   ]
  },
  {
   "cell_type": "code",
   "execution_count": 176,
   "id": "feaae724-5724-472e-b673-6a48ac7b2227",
   "metadata": {},
   "outputs": [
    {
     "name": "stdout",
     "output_type": "stream",
     "text": [
      "[[1 2 3]\n",
      " [4 5 6]\n",
      " [7 8 9]]\n"
     ]
    }
   ],
   "source": [
    "print(a2d[:,:])"
   ]
  },
  {
   "cell_type": "code",
   "execution_count": 177,
   "id": "e149fe93-c63c-4e80-9927-97554beae64f",
   "metadata": {},
   "outputs": [
    {
     "name": "stdout",
     "output_type": "stream",
     "text": [
      "[[1 2 3]]\n"
     ]
    }
   ],
   "source": [
    "print(a2d[0:1,0:3])"
   ]
  },
  {
   "cell_type": "code",
   "execution_count": 178,
   "id": "6da685bc-1641-4bea-be85-746b47a2be3e",
   "metadata": {},
   "outputs": [
    {
     "name": "stdout",
     "output_type": "stream",
     "text": [
      "[[2]\n",
      " [5]\n",
      " [8]]\n"
     ]
    }
   ],
   "source": [
    "print(a2d[0:3,1:2])"
   ]
  },
  {
   "cell_type": "code",
   "execution_count": 179,
   "id": "62a6ce17-d538-46e2-95fb-ca5c057c25ed",
   "metadata": {},
   "outputs": [
    {
     "name": "stdout",
     "output_type": "stream",
     "text": [
      "[[4]]\n"
     ]
    }
   ],
   "source": [
    "print(a2d[1:2,0:1])"
   ]
  },
  {
   "cell_type": "code",
   "execution_count": 180,
   "id": "b43a43e1-7607-45de-bc3c-91303370dd6b",
   "metadata": {},
   "outputs": [
    {
     "name": "stdout",
     "output_type": "stream",
     "text": [
      "[[2 3]\n",
      " [5 6]]\n"
     ]
    }
   ],
   "source": [
    "print(a2d[0:2,1:3])"
   ]
  },
  {
   "cell_type": "code",
   "execution_count": 181,
   "id": "ee57ece6-a92d-4737-8c87-8053368f2bed",
   "metadata": {},
   "outputs": [
    {
     "name": "stdout",
     "output_type": "stream",
     "text": [
      "(3, 3)\n"
     ]
    }
   ],
   "source": [
    "print(a2d.shape)"
   ]
  },
  {
   "cell_type": "code",
   "execution_count": 182,
   "id": "b7655ac6-ece8-4340-826e-37483c6b80cc",
   "metadata": {},
   "outputs": [
    {
     "name": "stdout",
     "output_type": "stream",
     "text": [
      "(10,)\n"
     ]
    }
   ],
   "source": [
    "print(a1d.shape)"
   ]
  },
  {
   "cell_type": "code",
   "execution_count": 183,
   "id": "210e6893-b53f-4bb0-bb69-c5795cb1cc46",
   "metadata": {},
   "outputs": [
    {
     "name": "stdout",
     "output_type": "stream",
     "text": [
      "10\n"
     ]
    }
   ],
   "source": [
    "print(a1d.size)"
   ]
  },
  {
   "cell_type": "code",
   "execution_count": 184,
   "id": "54d14f60-5eb5-4e12-8e46-a712ea6362a1",
   "metadata": {},
   "outputs": [
    {
     "name": "stdout",
     "output_type": "stream",
     "text": [
      "9\n"
     ]
    }
   ],
   "source": [
    "print(a2d.size)"
   ]
  },
  {
   "cell_type": "code",
   "execution_count": 185,
   "id": "a0694450-d8a0-4882-a1ac-741caeb08e97",
   "metadata": {},
   "outputs": [
    {
     "name": "stdout",
     "output_type": "stream",
     "text": [
      "[19]\n"
     ]
    }
   ],
   "source": [
    "print(a1d[-1:len(a1d)])"
   ]
  },
  {
   "cell_type": "code",
   "execution_count": 186,
   "id": "c90ed695-d830-41db-b603-f80623f6b4fa",
   "metadata": {},
   "outputs": [
    {
     "name": "stdout",
     "output_type": "stream",
     "text": [
      "145\n"
     ]
    }
   ],
   "source": [
    "sum=0\n",
    "for i in range(0,10):\n",
    "    sum=sum+a1d[i]\n",
    "print(sum)"
   ]
  },
  {
   "cell_type": "code",
   "execution_count": 187,
   "id": "69e8456f-ae69-43b1-8c71-3210264486be",
   "metadata": {},
   "outputs": [
    {
     "name": "stdout",
     "output_type": "stream",
     "text": [
      "10\n"
     ]
    }
   ],
   "source": [
    "print(a1d.min())"
   ]
  },
  {
   "cell_type": "code",
   "execution_count": 188,
   "id": "15f271f4-f71a-4b91-82a2-b36bc5285cf7",
   "metadata": {},
   "outputs": [
    {
     "name": "stdout",
     "output_type": "stream",
     "text": [
      "145\n"
     ]
    }
   ],
   "source": [
    "print(a1d.sum())"
   ]
  },
  {
   "cell_type": "code",
   "execution_count": 189,
   "id": "18e691c8-3ffb-481e-92d9-641bd727b2c4",
   "metadata": {},
   "outputs": [
    {
     "name": "stdout",
     "output_type": "stream",
     "text": [
      "1\n"
     ]
    }
   ],
   "source": [
    "print(a2d[0][0])"
   ]
  },
  {
   "cell_type": "code",
   "execution_count": 195,
   "id": "2f727b63-f508-4cec-a003-bd517c736ebd",
   "metadata": {},
   "outputs": [
    {
     "data": {
      "text/plain": [
       "3"
      ]
     },
     "execution_count": 195,
     "metadata": {},
     "output_type": "execute_result"
    }
   ],
   "source": [
    "len(a2d)"
   ]
  },
  {
   "cell_type": "code",
   "execution_count": 197,
   "id": "ecd4461b-f63f-424e-a479-f3f4d36ead5e",
   "metadata": {},
   "outputs": [
    {
     "name": "stdout",
     "output_type": "stream",
     "text": [
      "[[1 2 3]\n",
      " [4 5 6]\n",
      " [7 8 9]]\n",
      "1\n",
      "2\n",
      "3\n",
      "4\n",
      "5\n",
      "6\n",
      "7\n",
      "8\n",
      "9\n"
     ]
    }
   ],
   "source": [
    "print(a2d)\n",
    "len(a2d)\n",
    "for i in range(len(a2d)):   \n",
    "    for j in range(0,len(a2d[i])):\n",
    "       print(a2d[i][j])"
   ]
  },
  {
   "cell_type": "code",
   "execution_count": 203,
   "id": "deacfad6-3ca6-4cb2-b3ef-7c24bc1e26ca",
   "metadata": {},
   "outputs": [
    {
     "name": "stdout",
     "output_type": "stream",
     "text": [
      "9\n",
      "1\n"
     ]
    }
   ],
   "source": [
    "max=0\n",
    "min=5\n",
    "for i in range(0,len(a2d[i])):   \n",
    "    for j in range(0,len(a2d[i])):\n",
    "      if a2d[i][j]>=max:\n",
    "            max=a2d[i][j]\n",
    "      if a2d[i][j]<=min:\n",
    "          min=a2d[i][j]\n",
    "print(max)  \n",
    "print(min)"
   ]
  },
  {
   "cell_type": "code",
   "execution_count": null,
   "id": "9301946c-966c-4a66-b697-0ac3dc47fd01",
   "metadata": {},
   "outputs": [],
   "source": []
  }
 ],
 "metadata": {
  "kernelspec": {
   "display_name": "Python 3 (ipykernel)",
   "language": "python",
   "name": "python3"
  },
  "language_info": {
   "codemirror_mode": {
    "name": "ipython",
    "version": 3
   },
   "file_extension": ".py",
   "mimetype": "text/x-python",
   "name": "python",
   "nbconvert_exporter": "python",
   "pygments_lexer": "ipython3",
   "version": "3.13.5"
  }
 },
 "nbformat": 4,
 "nbformat_minor": 5
}
