{
 "cells": [
  {
   "cell_type": "markdown",
   "id": "b657e456-bf2e-4d01-982d-1da41c3662e6",
   "metadata": {},
   "source": [
    "# pandas"
   ]
  },
  {
   "cell_type": "code",
   "execution_count": 34,
   "id": "064dd150-edc3-4093-a106-19755c35656d",
   "metadata": {},
   "outputs": [],
   "source": [
    "import pandas as pd\n",
    "import numpy as np"
   ]
  },
  {
   "cell_type": "code",
   "execution_count": 35,
   "id": "fe3511ca-9aae-431c-bc21-ae2afe435615",
   "metadata": {},
   "outputs": [
    {
     "name": "stdout",
     "output_type": "stream",
     "text": [
      "0    1\n",
      "1    2\n",
      "2    3\n",
      "3    4\n",
      "4    5\n",
      "5    6\n",
      "6    7\n",
      "7    8\n",
      "dtype: int64\n"
     ]
    }
   ],
   "source": [
    "array=[1,2,3,4,5,6,7,8]\n",
    "series=pd.Series(array)\n",
    "print(series)"
   ]
  },
  {
   "cell_type": "code",
   "execution_count": 36,
   "id": "81322d64-b823-4e6c-ae61-f87635336824",
   "metadata": {},
   "outputs": [
    {
     "name": "stdout",
     "output_type": "stream",
     "text": [
      "a    1\n",
      "b    2\n",
      "c    3\n",
      "d    4\n",
      "5    5\n",
      "6    6\n",
      "7    7\n",
      "8    8\n",
      "dtype: int64\n"
     ]
    }
   ],
   "source": [
    "custom_series=pd.Series(array,index=['a','b','c','d',5,6,7,8])\n",
    "print(custom_series)"
   ]
  },
  {
   "cell_type": "code",
   "execution_count": 37,
   "id": "8797d321-f22e-4a27-84e7-ff672b913b92",
   "metadata": {},
   "outputs": [
    {
     "name": "stdout",
     "output_type": "stream",
     "text": [
      "     name department  marks  passed\n",
      "0   arnav        CSE     75    True\n",
      "1    adil        CSE     95    True\n",
      "2  advait       mech     85    True\n",
      "3     ram       mech     32   False\n",
      "4    sham       mech     34   False\n"
     ]
    }
   ],
   "source": [
    "data={\n",
    "    'name':['arnav','adil','advait','ram','sham'],\n",
    "    'department':['CSE','CSE','mech','mech','mech'],\n",
    "    'marks':[75,95,85,32,34],\n",
    "    'passed':[True,True,True,False,False],    \n",
    "     }\n",
    "data_frame=pd.DataFrame(data)\n",
    "print(data_frame)"
   ]
  },
  {
   "cell_type": "markdown",
   "id": "8dc12d12-e5ee-45e2-9bfc-6704cb5a100f",
   "metadata": {},
   "source": [
    "## filtering the data"
   ]
  },
  {
   "cell_type": "code",
   "execution_count": 38,
   "id": "b3b6b3e7-7c75-4bb7-b6f2-78c8bf86ab49",
   "metadata": {
    "scrolled": true
   },
   "outputs": [
    {
     "name": "stdout",
     "output_type": "stream",
     "text": [
      "     name department  marks  passed\n",
      "1    adil        CSE     95    True\n",
      "2  advait       mech     85    True\n"
     ]
    }
   ],
   "source": [
    "high_score=data_frame[data_frame['marks'] > 80]\n",
    "print (high_score)"
   ]
  },
  {
   "cell_type": "code",
   "execution_count": 39,
   "id": "fd2e765b-bc16-431e-ad53-e15846890f87",
   "metadata": {},
   "outputs": [
    {
     "name": "stdout",
     "output_type": "stream",
     "text": [
      "     name department  marks  passed\n",
      "0   arnav        CSE     75    True\n",
      "1    adil        CSE     95    True\n",
      "2  advait       mech     85    True\n"
     ]
    }
   ],
   "source": [
    "passed_students=data_frame[data_frame['passed']==True]\n",
    "print (passed_students)"
   ]
  },
  {
   "cell_type": "code",
   "execution_count": 40,
   "id": "63379ca4-2a02-4c6a-8561-2ec911a4f10a",
   "metadata": {},
   "outputs": [
    {
     "name": "stdout",
     "output_type": "stream",
     "text": [
      "     name department  marks  passed\n",
      "2  advait       mech     85    True\n",
      "3     ram       mech     32   False\n",
      "4    sham       mech     34   False\n"
     ]
    }
   ],
   "source": [
    "mech_students=data_frame[data_frame['department']==\"mech\"]\n",
    "print(mech_students)"
   ]
  },
  {
   "cell_type": "markdown",
   "id": "61f1c936-aadd-48dc-b53c-b53b28ab5ded",
   "metadata": {},
   "source": [
    "## grouping"
   ]
  },
  {
   "cell_type": "code",
   "execution_count": 41,
   "id": "2c804fa4-ab28-433a-80a3-41e8421503c8",
   "metadata": {},
   "outputs": [
    {
     "name": "stdout",
     "output_type": "stream",
     "text": [
      "department\n",
      "CSE     85.000000\n",
      "mech    50.333333\n",
      "Name: marks, dtype: float64\n"
     ]
    }
   ],
   "source": [
    "avg_marks=data_frame.groupby(\"department\")[\"marks\"].mean()\n",
    "print(avg_marks)"
   ]
  },
  {
   "cell_type": "code",
   "execution_count": 42,
   "id": "cb94be7f-4b36-42f4-b97d-3e727615bbd4",
   "metadata": {},
   "outputs": [
    {
     "name": "stdout",
     "output_type": "stream",
     "text": [
      "department\n",
      "CSE     2\n",
      "mech    3\n",
      "Name: name, dtype: int64\n"
     ]
    }
   ],
   "source": [
    "no_of_student=data_frame.groupby(\"department\")[\"name\"].count()\n",
    "print(no_of_student)"
   ]
  },
  {
   "cell_type": "code",
   "execution_count": 43,
   "id": "ad1c5aa1-ccf6-4b38-9c64-1468156a4980",
   "metadata": {},
   "outputs": [
    {
     "name": "stdout",
     "output_type": "stream",
     "text": [
      "department\n",
      "CSE     2\n",
      "mech    1\n",
      "Name: passed, dtype: int64\n"
     ]
    }
   ],
   "source": [
    "passed_studs=data_frame.groupby(\"department\")[\"passed\"].sum()\n",
    "print(passed_studs)"
   ]
  },
  {
   "cell_type": "markdown",
   "id": "065a8057-9361-4ee5-860e-9b518afa43a9",
   "metadata": {},
   "source": [
    "## add new columns based on conditions"
   ]
  },
  {
   "cell_type": "code",
   "execution_count": 44,
   "id": "83c710b7-dc79-4802-850b-0762af1b454b",
   "metadata": {},
   "outputs": [
    {
     "name": "stdout",
     "output_type": "stream",
     "text": [
      "     name department  marks  passed grades\n",
      "0   arnav        CSE     75    True      B\n",
      "1    adil        CSE     95    True      A\n",
      "2  advait       mech     85    True      A\n",
      "3     ram       mech     32   False      B\n",
      "4    sham       mech     34   False      B\n"
     ]
    }
   ],
   "source": [
    "data_frame[\"grades\"]=[\"A\" if mark>=80 else \"B\" for mark in data_frame['marks']]\n",
    "print(data_frame)"
   ]
  },
  {
   "cell_type": "code",
   "execution_count": 45,
   "id": "238cf6e1-9d1d-4261-92e7-bd29f56748e6",
   "metadata": {},
   "outputs": [],
   "source": [
    "data_frame.to_csv('student_data.csv', index = False)"
   ]
  },
  {
   "cell_type": "code",
   "execution_count": 46,
   "id": "11b1441a-b9e2-4dbd-b925-977ad206e6d5",
   "metadata": {},
   "outputs": [
    {
     "name": "stdout",
     "output_type": "stream",
     "text": [
      "     Brand Processor  RAM (GB)  Price (INR)\n",
      "0     Acer   Ryzen 5        32        66302\n",
      "1    Apple   Ryzen 7         4       120239\n",
      "2       HP        i9         4        76728\n",
      "3    Apple   Ryzen 7         8        56251\n",
      "4     Asus        i5        16        39692\n",
      "..     ...       ...       ...          ...\n",
      "95    Acer        i9        16       143835\n",
      "96  Lenovo        i7         4        50528\n",
      "97     MSI   Ryzen 5         8       127506\n",
      "98   Apple        i9         8        34770\n",
      "99    Asus   Ryzen 5        16        79763\n",
      "\n",
      "[100 rows x 4 columns]\n"
     ]
    }
   ],
   "source": [
    "loaded_lap=pd.read_csv(\"laptop_data.csv\")\n",
    "print(loaded_lap)"
   ]
  },
  {
   "cell_type": "code",
   "execution_count": 47,
   "id": "35181389-d0ff-4936-8b08-8f6808950326",
   "metadata": {},
   "outputs": [
    {
     "data": {
      "text/html": [
       "<div>\n",
       "<style scoped>\n",
       "    .dataframe tbody tr th:only-of-type {\n",
       "        vertical-align: middle;\n",
       "    }\n",
       "\n",
       "    .dataframe tbody tr th {\n",
       "        vertical-align: top;\n",
       "    }\n",
       "\n",
       "    .dataframe thead th {\n",
       "        text-align: right;\n",
       "    }\n",
       "</style>\n",
       "<table border=\"1\" class=\"dataframe\">\n",
       "  <thead>\n",
       "    <tr style=\"text-align: right;\">\n",
       "      <th></th>\n",
       "      <th>Brand</th>\n",
       "      <th>Processor</th>\n",
       "      <th>RAM (GB)</th>\n",
       "      <th>Price (INR)</th>\n",
       "    </tr>\n",
       "  </thead>\n",
       "  <tbody>\n",
       "    <tr>\n",
       "      <th>0</th>\n",
       "      <td>Acer</td>\n",
       "      <td>Ryzen 5</td>\n",
       "      <td>32</td>\n",
       "      <td>66302</td>\n",
       "    </tr>\n",
       "    <tr>\n",
       "      <th>1</th>\n",
       "      <td>Apple</td>\n",
       "      <td>Ryzen 7</td>\n",
       "      <td>4</td>\n",
       "      <td>120239</td>\n",
       "    </tr>\n",
       "    <tr>\n",
       "      <th>2</th>\n",
       "      <td>HP</td>\n",
       "      <td>i9</td>\n",
       "      <td>4</td>\n",
       "      <td>76728</td>\n",
       "    </tr>\n",
       "    <tr>\n",
       "      <th>3</th>\n",
       "      <td>Apple</td>\n",
       "      <td>Ryzen 7</td>\n",
       "      <td>8</td>\n",
       "      <td>56251</td>\n",
       "    </tr>\n",
       "    <tr>\n",
       "      <th>4</th>\n",
       "      <td>Asus</td>\n",
       "      <td>i5</td>\n",
       "      <td>16</td>\n",
       "      <td>39692</td>\n",
       "    </tr>\n",
       "    <tr>\n",
       "      <th>5</th>\n",
       "      <td>Dell</td>\n",
       "      <td>i5</td>\n",
       "      <td>32</td>\n",
       "      <td>102292</td>\n",
       "    </tr>\n",
       "    <tr>\n",
       "      <th>6</th>\n",
       "      <td>MSI</td>\n",
       "      <td>Ryzen 3</td>\n",
       "      <td>4</td>\n",
       "      <td>124243</td>\n",
       "    </tr>\n",
       "    <tr>\n",
       "      <th>7</th>\n",
       "      <td>Asus</td>\n",
       "      <td>i7</td>\n",
       "      <td>32</td>\n",
       "      <td>78998</td>\n",
       "    </tr>\n",
       "    <tr>\n",
       "      <th>8</th>\n",
       "      <td>Apple</td>\n",
       "      <td>Ryzen 7</td>\n",
       "      <td>4</td>\n",
       "      <td>125812</td>\n",
       "    </tr>\n",
       "    <tr>\n",
       "      <th>9</th>\n",
       "      <td>Asus</td>\n",
       "      <td>i9</td>\n",
       "      <td>4</td>\n",
       "      <td>108517</td>\n",
       "    </tr>\n",
       "  </tbody>\n",
       "</table>\n",
       "</div>"
      ],
      "text/plain": [
       "   Brand Processor  RAM (GB)  Price (INR)\n",
       "0   Acer   Ryzen 5        32        66302\n",
       "1  Apple   Ryzen 7         4       120239\n",
       "2     HP        i9         4        76728\n",
       "3  Apple   Ryzen 7         8        56251\n",
       "4   Asus        i5        16        39692\n",
       "5   Dell        i5        32       102292\n",
       "6    MSI   Ryzen 3         4       124243\n",
       "7   Asus        i7        32        78998\n",
       "8  Apple   Ryzen 7         4       125812\n",
       "9   Asus        i9         4       108517"
      ]
     },
     "execution_count": 47,
     "metadata": {},
     "output_type": "execute_result"
    }
   ],
   "source": [
    "loaded_lap.head(10)\n"
   ]
  },
  {
   "cell_type": "code",
   "execution_count": 48,
   "id": "81388aed-2b4f-4b4e-a737-83dbe1478458",
   "metadata": {},
   "outputs": [
    {
     "data": {
      "text/html": [
       "<div>\n",
       "<style scoped>\n",
       "    .dataframe tbody tr th:only-of-type {\n",
       "        vertical-align: middle;\n",
       "    }\n",
       "\n",
       "    .dataframe tbody tr th {\n",
       "        vertical-align: top;\n",
       "    }\n",
       "\n",
       "    .dataframe thead th {\n",
       "        text-align: right;\n",
       "    }\n",
       "</style>\n",
       "<table border=\"1\" class=\"dataframe\">\n",
       "  <thead>\n",
       "    <tr style=\"text-align: right;\">\n",
       "      <th></th>\n",
       "      <th>Brand</th>\n",
       "      <th>Processor</th>\n",
       "      <th>RAM (GB)</th>\n",
       "      <th>Price (INR)</th>\n",
       "    </tr>\n",
       "  </thead>\n",
       "  <tbody>\n",
       "    <tr>\n",
       "      <th>90</th>\n",
       "      <td>MSI</td>\n",
       "      <td>Ryzen 5</td>\n",
       "      <td>8</td>\n",
       "      <td>62229</td>\n",
       "    </tr>\n",
       "    <tr>\n",
       "      <th>91</th>\n",
       "      <td>Acer</td>\n",
       "      <td>Ryzen 5</td>\n",
       "      <td>32</td>\n",
       "      <td>42321</td>\n",
       "    </tr>\n",
       "    <tr>\n",
       "      <th>92</th>\n",
       "      <td>MSI</td>\n",
       "      <td>i3</td>\n",
       "      <td>4</td>\n",
       "      <td>120632</td>\n",
       "    </tr>\n",
       "    <tr>\n",
       "      <th>93</th>\n",
       "      <td>Acer</td>\n",
       "      <td>i5</td>\n",
       "      <td>32</td>\n",
       "      <td>106092</td>\n",
       "    </tr>\n",
       "    <tr>\n",
       "      <th>94</th>\n",
       "      <td>Lenovo</td>\n",
       "      <td>Ryzen 3</td>\n",
       "      <td>4</td>\n",
       "      <td>147457</td>\n",
       "    </tr>\n",
       "    <tr>\n",
       "      <th>95</th>\n",
       "      <td>Acer</td>\n",
       "      <td>i9</td>\n",
       "      <td>16</td>\n",
       "      <td>143835</td>\n",
       "    </tr>\n",
       "    <tr>\n",
       "      <th>96</th>\n",
       "      <td>Lenovo</td>\n",
       "      <td>i7</td>\n",
       "      <td>4</td>\n",
       "      <td>50528</td>\n",
       "    </tr>\n",
       "    <tr>\n",
       "      <th>97</th>\n",
       "      <td>MSI</td>\n",
       "      <td>Ryzen 5</td>\n",
       "      <td>8</td>\n",
       "      <td>127506</td>\n",
       "    </tr>\n",
       "    <tr>\n",
       "      <th>98</th>\n",
       "      <td>Apple</td>\n",
       "      <td>i9</td>\n",
       "      <td>8</td>\n",
       "      <td>34770</td>\n",
       "    </tr>\n",
       "    <tr>\n",
       "      <th>99</th>\n",
       "      <td>Asus</td>\n",
       "      <td>Ryzen 5</td>\n",
       "      <td>16</td>\n",
       "      <td>79763</td>\n",
       "    </tr>\n",
       "  </tbody>\n",
       "</table>\n",
       "</div>"
      ],
      "text/plain": [
       "     Brand Processor  RAM (GB)  Price (INR)\n",
       "90     MSI   Ryzen 5         8        62229\n",
       "91    Acer   Ryzen 5        32        42321\n",
       "92     MSI        i3         4       120632\n",
       "93    Acer        i5        32       106092\n",
       "94  Lenovo   Ryzen 3         4       147457\n",
       "95    Acer        i9        16       143835\n",
       "96  Lenovo        i7         4        50528\n",
       "97     MSI   Ryzen 5         8       127506\n",
       "98   Apple        i9         8        34770\n",
       "99    Asus   Ryzen 5        16        79763"
      ]
     },
     "execution_count": 48,
     "metadata": {},
     "output_type": "execute_result"
    }
   ],
   "source": [
    "loaded_lap.tail(10)"
   ]
  },
  {
   "cell_type": "code",
   "execution_count": 49,
   "id": "f8576724-d83b-4356-98e2-7e833565c853",
   "metadata": {},
   "outputs": [
    {
     "name": "stdout",
     "output_type": "stream",
     "text": [
      "     Brand Processor  RAM (GB)  Price (INR)\n",
      "11     MSI        i9        16        30956\n",
      "48     MSI        i5        16        31877\n",
      "54     MSI        i3        16        33286\n",
      "47    Acer   Ryzen 5         8        34432\n",
      "98   Apple        i9         8        34770\n",
      "..     ...       ...       ...          ...\n",
      "62   Apple   Ryzen 5        32       146557\n",
      "94  Lenovo   Ryzen 3         4       147457\n",
      "10    Acer        i3         8       148776\n",
      "28  Lenovo        i3         4       149688\n",
      "16     MSI        i7        32       149938\n",
      "\n",
      "[100 rows x 4 columns]\n"
     ]
    }
   ],
   "source": [
    "loaded_lap.sort_values(by=\"Price (INR)\",inplace=True)\n",
    "print(loaded_lap)"
   ]
  },
  {
   "cell_type": "code",
   "execution_count": 50,
   "id": "ed010dfc-8fa9-44b4-8ab9-239fd8b01542",
   "metadata": {},
   "outputs": [
    {
     "data": {
      "text/html": [
       "<div>\n",
       "<style scoped>\n",
       "    .dataframe tbody tr th:only-of-type {\n",
       "        vertical-align: middle;\n",
       "    }\n",
       "\n",
       "    .dataframe tbody tr th {\n",
       "        vertical-align: top;\n",
       "    }\n",
       "\n",
       "    .dataframe thead th {\n",
       "        text-align: right;\n",
       "    }\n",
       "</style>\n",
       "<table border=\"1\" class=\"dataframe\">\n",
       "  <thead>\n",
       "    <tr style=\"text-align: right;\">\n",
       "      <th></th>\n",
       "      <th>Brand</th>\n",
       "      <th>RAM (GB)</th>\n",
       "      <th>Price (INR)</th>\n",
       "    </tr>\n",
       "  </thead>\n",
       "  <tbody>\n",
       "    <tr>\n",
       "      <th>11</th>\n",
       "      <td>MSI</td>\n",
       "      <td>16</td>\n",
       "      <td>30956</td>\n",
       "    </tr>\n",
       "    <tr>\n",
       "      <th>48</th>\n",
       "      <td>MSI</td>\n",
       "      <td>16</td>\n",
       "      <td>31877</td>\n",
       "    </tr>\n",
       "    <tr>\n",
       "      <th>54</th>\n",
       "      <td>MSI</td>\n",
       "      <td>16</td>\n",
       "      <td>33286</td>\n",
       "    </tr>\n",
       "    <tr>\n",
       "      <th>47</th>\n",
       "      <td>Acer</td>\n",
       "      <td>8</td>\n",
       "      <td>34432</td>\n",
       "    </tr>\n",
       "    <tr>\n",
       "      <th>98</th>\n",
       "      <td>Apple</td>\n",
       "      <td>8</td>\n",
       "      <td>34770</td>\n",
       "    </tr>\n",
       "    <tr>\n",
       "      <th>...</th>\n",
       "      <td>...</td>\n",
       "      <td>...</td>\n",
       "      <td>...</td>\n",
       "    </tr>\n",
       "    <tr>\n",
       "      <th>62</th>\n",
       "      <td>Apple</td>\n",
       "      <td>32</td>\n",
       "      <td>146557</td>\n",
       "    </tr>\n",
       "    <tr>\n",
       "      <th>94</th>\n",
       "      <td>Lenovo</td>\n",
       "      <td>4</td>\n",
       "      <td>147457</td>\n",
       "    </tr>\n",
       "    <tr>\n",
       "      <th>10</th>\n",
       "      <td>Acer</td>\n",
       "      <td>8</td>\n",
       "      <td>148776</td>\n",
       "    </tr>\n",
       "    <tr>\n",
       "      <th>28</th>\n",
       "      <td>Lenovo</td>\n",
       "      <td>4</td>\n",
       "      <td>149688</td>\n",
       "    </tr>\n",
       "    <tr>\n",
       "      <th>16</th>\n",
       "      <td>MSI</td>\n",
       "      <td>32</td>\n",
       "      <td>149938</td>\n",
       "    </tr>\n",
       "  </tbody>\n",
       "</table>\n",
       "<p>100 rows × 3 columns</p>\n",
       "</div>"
      ],
      "text/plain": [
       "     Brand  RAM (GB)  Price (INR)\n",
       "11     MSI        16        30956\n",
       "48     MSI        16        31877\n",
       "54     MSI        16        33286\n",
       "47    Acer         8        34432\n",
       "98   Apple         8        34770\n",
       "..     ...       ...          ...\n",
       "62   Apple        32       146557\n",
       "94  Lenovo         4       147457\n",
       "10    Acer         8       148776\n",
       "28  Lenovo         4       149688\n",
       "16     MSI        32       149938\n",
       "\n",
       "[100 rows x 3 columns]"
      ]
     },
     "execution_count": 50,
     "metadata": {},
     "output_type": "execute_result"
    }
   ],
   "source": [
    "loaded_lap.drop(\"Processor\",axis=1)"
   ]
  },
  {
   "cell_type": "code",
   "execution_count": 51,
   "id": "46dfb1bf-a3ff-43dd-ac02-a96b5ad018e2",
   "metadata": {},
   "outputs": [
    {
     "name": "stdout",
     "output_type": "stream",
     "text": [
      "65.33333333333333\n"
     ]
    }
   ],
   "source": [
    "marks=[67,5,8,78,93,78,24,61,98,86,53,76,93,85,75]\n",
    "mean=np.mean(marks)\n",
    "print(mean)"
   ]
  },
  {
   "cell_type": "code",
   "execution_count": 52,
   "id": "fbd91cc5-6e4a-484c-9571-f418fc7e4f29",
   "metadata": {},
   "outputs": [
    {
     "name": "stdout",
     "output_type": "stream",
     "text": [
      "76.0\n"
     ]
    }
   ],
   "source": [
    "median=np.median(marks)\n",
    "print(median)"
   ]
  },
  {
   "cell_type": "code",
   "execution_count": 53,
   "id": "d2afb89b-c2b1-4d82-a120-56c00958f29e",
   "metadata": {},
   "outputs": [
    {
     "name": "stdout",
     "output_type": "stream",
     "text": [
      "29.15399724832867\n"
     ]
    }
   ],
   "source": [
    "std=np.std(marks)\n",
    "print(std)"
   ]
  },
  {
   "cell_type": "code",
   "execution_count": 54,
   "id": "13554b8b-6a01-43bc-96d1-ff27459973db",
   "metadata": {},
   "outputs": [
    {
     "name": "stdout",
     "output_type": "stream",
     "text": [
      "849.9555555555556\n"
     ]
    }
   ],
   "source": [
    "var=np.var(marks)\n",
    "print(var)"
   ]
  },
  {
   "cell_type": "code",
   "execution_count": 55,
   "id": "801ac5cf-603c-4e7d-92f9-2f33f8126329",
   "metadata": {},
   "outputs": [
    {
     "name": "stdout",
     "output_type": "stream",
     "text": [
      "29.15399724832867\n"
     ]
    }
   ],
   "source": [
    "root=var **0.5\n",
    "print(root)"
   ]
  },
  {
   "cell_type": "markdown",
   "id": "a5921b09-40eb-42b1-b41a-1c1fd6f4feb9",
   "metadata": {},
   "source": [
    "## home work"
   ]
  },
  {
   "cell_type": "code",
   "execution_count": 56,
   "id": "efd24b2e-e682-43c5-ab35-34dd628c9909",
   "metadata": {},
   "outputs": [
    {
     "name": "stdout",
     "output_type": "stream",
     "text": [
      "arnav\n"
     ]
    },
    {
     "data": {
      "text/plain": [
       "str"
      ]
     },
     "execution_count": 56,
     "metadata": {},
     "output_type": "execute_result"
    }
   ],
   "source": [
    "name= \"arnav\"\n",
    "print(name)\n",
    "type(name)\n"
   ]
  },
  {
   "cell_type": "code",
   "execution_count": 57,
   "id": "c23304c3-2280-4627-a202-4d97d95367f7",
   "metadata": {},
   "outputs": [
    {
     "name": "stdout",
     "output_type": "stream",
     "text": [
      "15.5\n"
     ]
    }
   ],
   "source": [
    "a=10\n",
    "b=5.5\n",
    "print(a+b)\n"
   ]
  },
  {
   "cell_type": "code",
   "execution_count": 58,
   "id": "9dd0cc77-b94b-4cef-bd8d-6ddc3b7da665",
   "metadata": {},
   "outputs": [
    {
     "data": {
      "text/plain": [
       "float"
      ]
     },
     "execution_count": 58,
     "metadata": {},
     "output_type": "execute_result"
    }
   ],
   "source": [
    "type(a)\n",
    "type(b)"
   ]
  },
  {
   "cell_type": "code",
   "execution_count": 59,
   "id": "e6cf8e94-2c87-4a80-a060-4c9b02a6da91",
   "metadata": {},
   "outputs": [
    {
     "name": "stdout",
     "output_type": "stream",
     "text": [
      "True\n"
     ]
    }
   ],
   "source": [
    "status=True\n",
    "print(status)"
   ]
  },
  {
   "cell_type": "code",
   "execution_count": 60,
   "id": "0cc961f0-f1b5-4188-af15-19eabeeb2124",
   "metadata": {},
   "outputs": [
    {
     "name": "stdout",
     "output_type": "stream",
     "text": [
      "['apple', 'orange', 'banana', 'guava', 'kiwi']\n"
     ]
    }
   ],
   "source": [
    "list=[\"apple\",\"orange\",'banana','guava','kiwi']\n",
    "print(list)"
   ]
  },
  {
   "cell_type": "code",
   "execution_count": 61,
   "id": "2205b0fc-ef7a-48c1-a72e-174ca6c8e018",
   "metadata": {},
   "outputs": [
    {
     "name": "stdout",
     "output_type": "stream",
     "text": [
      "orange guava\n"
     ]
    }
   ],
   "source": [
    "print(list[1],list[3])"
   ]
  },
  {
   "cell_type": "code",
   "execution_count": 62,
   "id": "bef5bcf4-1708-4923-be7a-7df0b02a2a4e",
   "metadata": {},
   "outputs": [
    {
     "name": "stdout",
     "output_type": "stream",
     "text": [
      "['apple', 'orange', 'banana', 'guava', 'kiwi', 'grapes']\n"
     ]
    }
   ],
   "source": [
    "list.append('grapes')\n",
    "print(list)"
   ]
  },
  {
   "cell_type": "code",
   "execution_count": 63,
   "id": "f549fd3c-3cca-41ec-adac-134f711e6f08",
   "metadata": {},
   "outputs": [
    {
     "name": "stdout",
     "output_type": "stream",
     "text": [
      "['apple', 'banana', 'orange', 'banana', 'guava', 'kiwi', 'grapes']\n"
     ]
    }
   ],
   "source": [
    "list.insert(1,'banana')\n",
    "print(list)"
   ]
  },
  {
   "cell_type": "code",
   "execution_count": 65,
   "id": "5e24abae-2a1c-4d1b-aef0-22b169bbd8ab",
   "metadata": {},
   "outputs": [
    {
     "name": "stdout",
     "output_type": "stream",
     "text": [
      "['apple', 'orange', 'banana', 'guava', 'kiwi', 'grapes']\n"
     ]
    }
   ],
   "source": [
    "list.remove('banana')\n",
    "print(list)"
   ]
  },
  {
   "cell_type": "code",
   "execution_count": 67,
   "id": "65fce222-cce5-4d5c-8b1c-00e5336cf9d2",
   "metadata": {},
   "outputs": [
    {
     "name": "stdout",
     "output_type": "stream",
     "text": [
      "grapes\n"
     ]
    }
   ],
   "source": [
    "print(list.pop())"
   ]
  },
  {
   "cell_type": "code",
   "execution_count": 68,
   "id": "0f3dde96-0d43-4362-9285-80811edd8e2b",
   "metadata": {},
   "outputs": [
    {
     "name": "stdout",
     "output_type": "stream",
     "text": [
      "0\n"
     ]
    }
   ],
   "source": [
    "print(list.index('apple'))"
   ]
  },
  {
   "cell_type": "code",
   "execution_count": 69,
   "id": "cef1cc89-3cd2-4e57-85db-2405298149e3",
   "metadata": {},
   "outputs": [
    {
     "data": {
      "text/plain": [
       "0"
      ]
     },
     "execution_count": 69,
     "metadata": {},
     "output_type": "execute_result"
    }
   ],
   "source": [
    "list.count('mango')"
   ]
  },
  {
   "cell_type": "code",
   "execution_count": 70,
   "id": "bfea2500-7d12-47c1-b899-1974d1547ab3",
   "metadata": {},
   "outputs": [
    {
     "name": "stdout",
     "output_type": "stream",
     "text": [
      "['apple', 'banana', 'guava', 'kiwi', 'orange']\n"
     ]
    }
   ],
   "source": [
    "list.sort()\n",
    "print(list)"
   ]
  },
  {
   "cell_type": "code",
   "execution_count": 73,
   "id": "ea4288c9-43df-42c7-9aab-9c06f8f3f6c2",
   "metadata": {},
   "outputs": [
    {
     "name": "stdout",
     "output_type": "stream",
     "text": [
      "['orange', 'kiwi', 'guava', 'banana', 'apple']\n"
     ]
    }
   ],
   "source": [
    "list.reverse()\n",
    "print(list)"
   ]
  },
  {
   "cell_type": "code",
   "execution_count": 74,
   "id": "8e338296-d264-4256-8f32-4e05a8f4b05b",
   "metadata": {},
   "outputs": [
    {
     "name": "stdout",
     "output_type": "stream",
     "text": [
      "pune\n"
     ]
    }
   ],
   "source": [
    "tuple=('solapur','mumbai','pune','delhi')\n",
    "print(tuple[2])"
   ]
  },
  {
   "cell_type": "code",
   "execution_count": 78,
   "id": "0cdba4df-6fa2-49f5-ba8c-d9e1671aa3a8",
   "metadata": {},
   "outputs": [
    {
     "data": {
      "text/plain": [
       "1"
      ]
     },
     "execution_count": 78,
     "metadata": {},
     "output_type": "execute_result"
    }
   ],
   "source": [
    "tuple.index('mumbai')"
   ]
  },
  {
   "cell_type": "code",
   "execution_count": 79,
   "id": "886d80de-cc24-4a6d-a37b-2a654909d42f",
   "metadata": {},
   "outputs": [
    {
     "data": {
      "text/plain": [
       "1"
      ]
     },
     "execution_count": 79,
     "metadata": {},
     "output_type": "execute_result"
    }
   ],
   "source": [
    "tuple.count('pune')"
   ]
  },
  {
   "cell_type": "code",
   "execution_count": 80,
   "id": "f60bbcab-7ea7-4e7c-89d6-0940c1e93008",
   "metadata": {},
   "outputs": [
    {
     "data": {
      "text/plain": [
       "4"
      ]
     },
     "execution_count": 80,
     "metadata": {},
     "output_type": "execute_result"
    }
   ],
   "source": [
    "len(tuple)"
   ]
  },
  {
   "cell_type": "code",
   "execution_count": 81,
   "id": "0e0263c7-3e56-4007-9f50-92ce4a9f943e",
   "metadata": {},
   "outputs": [],
   "source": [
    "set={'blue','black','white','red'}"
   ]
  },
  {
   "cell_type": "code",
   "execution_count": 83,
   "id": "bf8923d2-8f00-4349-a42e-9081ecb43692",
   "metadata": {},
   "outputs": [
    {
     "name": "stdout",
     "output_type": "stream",
     "text": [
      "{'black', 'blue', 'white', 'red'}\n"
     ]
    }
   ],
   "source": [
    "set.add('black')\n",
    "print(set)"
   ]
  },
  {
   "cell_type": "code",
   "execution_count": 84,
   "id": "1b91ceca-734d-4fb8-92ad-56a1ee71df3d",
   "metadata": {},
   "outputs": [
    {
     "name": "stdout",
     "output_type": "stream",
     "text": [
      "{'black', 'blue', 'white'}\n"
     ]
    }
   ],
   "source": [
    "set.remove('red')\n",
    "print(set)"
   ]
  },
  {
   "cell_type": "code",
   "execution_count": 85,
   "id": "e950cd42-cf80-4fa6-a32f-060a8a24777b",
   "metadata": {},
   "outputs": [
    {
     "data": {
      "text/plain": [
       "{1, 2, 3, 4, 5}"
      ]
     },
     "execution_count": 85,
     "metadata": {},
     "output_type": "execute_result"
    }
   ],
   "source": [
    "set1={1,2,3}\n",
    "set2={3,4,5}\n",
    "set1.union(set2)"
   ]
  },
  {
   "cell_type": "code",
   "execution_count": 87,
   "id": "ffcabbae-7d0d-4dac-af4b-a0ad1716656c",
   "metadata": {},
   "outputs": [
    {
     "data": {
      "text/plain": [
       "{3}"
      ]
     },
     "execution_count": 87,
     "metadata": {},
     "output_type": "execute_result"
    }
   ],
   "source": [
    "set1.intersection(set2)"
   ]
  },
  {
   "cell_type": "code",
   "execution_count": 93,
   "id": "dc4a8220-4f48-4616-9d39-c67aecea5389",
   "metadata": {},
   "outputs": [
    {
     "data": {
      "text/plain": [
       "{4, 5}"
      ]
     },
     "execution_count": 93,
     "metadata": {},
     "output_type": "execute_result"
    }
   ],
   "source": [
    "set2.difference(set1)"
   ]
  },
  {
   "cell_type": "code",
   "execution_count": 94,
   "id": "8c1108d5-4a7b-4952-bd41-403f6f927ec1",
   "metadata": {},
   "outputs": [
    {
     "data": {
      "text/plain": [
       "3"
      ]
     },
     "execution_count": 94,
     "metadata": {},
     "output_type": "execute_result"
    }
   ],
   "source": [
    "len(set)"
   ]
  },
  {
   "cell_type": "code",
   "execution_count": 95,
   "id": "4c5e84c6-2d1c-414e-97c8-b53fbba36454",
   "metadata": {},
   "outputs": [],
   "source": [
    "sub_marks={'maths':67,'science':86,'history':45}"
   ]
  },
  {
   "cell_type": "code",
   "execution_count": 98,
   "id": "ee8613d9-dbeb-4a5d-a0b5-aa1e7a3c9e6d",
   "metadata": {},
   "outputs": [
    {
     "name": "stdout",
     "output_type": "stream",
     "text": [
      "86\n"
     ]
    }
   ],
   "source": [
    "print(sub_marks.get('science'))"
   ]
  },
  {
   "cell_type": "code",
   "execution_count": 100,
   "id": "74ea7498-3f6d-491f-8bbb-417c49aa9f02",
   "metadata": {},
   "outputs": [
    {
     "name": "stdout",
     "output_type": "stream",
     "text": [
      "dict_keys(['maths', 'science', 'history'])\n"
     ]
    }
   ],
   "source": [
    "print(sub_marks.keys())"
   ]
  },
  {
   "cell_type": "code",
   "execution_count": 101,
   "id": "0d8d7bad-6752-43d9-8ed6-1326c699463a",
   "metadata": {},
   "outputs": [
    {
     "name": "stdout",
     "output_type": "stream",
     "text": [
      "dict_values([67, 86, 45])\n"
     ]
    }
   ],
   "source": [
    "print(sub_marks.values())"
   ]
  },
  {
   "cell_type": "code",
   "execution_count": 102,
   "id": "d7466403-f64a-4edc-9a35-27ab1e4b0acf",
   "metadata": {},
   "outputs": [
    {
     "name": "stdout",
     "output_type": "stream",
     "text": [
      "{'maths': 67, 'science': 86, 'history': 45}\n"
     ]
    }
   ],
   "source": [
    "print(sub_marks)"
   ]
  },
  {
   "cell_type": "code",
   "execution_count": 103,
   "id": "8d68264f-c9f4-4595-8b08-8a985c67ce4a",
   "metadata": {},
   "outputs": [
    {
     "data": {
      "text/plain": [
       "dict_items([('maths', 67), ('science', 86), ('history', 45)])"
      ]
     },
     "execution_count": 103,
     "metadata": {},
     "output_type": "execute_result"
    }
   ],
   "source": [
    "sub_marks.items()"
   ]
  },
  {
   "cell_type": "code",
   "execution_count": 109,
   "id": "4ede1ae3-391a-4fcf-8062-2e5ed854c729",
   "metadata": {},
   "outputs": [
    {
     "data": {
      "text/plain": [
       "45"
      ]
     },
     "execution_count": 109,
     "metadata": {},
     "output_type": "execute_result"
    }
   ],
   "source": [
    "sub_marks.get('history')"
   ]
  },
  {
   "cell_type": "code",
   "execution_count": 107,
   "id": "d528a6f4-994d-4690-aa2e-148f2e766dd8",
   "metadata": {},
   "outputs": [
    {
     "data": {
      "text/plain": [
       "67"
      ]
     },
     "execution_count": 107,
     "metadata": {},
     "output_type": "execute_result"
    }
   ],
   "source": [
    "sub_marks.get('maths')"
   ]
  },
  {
   "cell_type": "code",
   "execution_count": 112,
   "id": "e39b410b-dba7-4fa4-899e-c05efd8af9ba",
   "metadata": {},
   "outputs": [
    {
     "name": "stdout",
     "output_type": "stream",
     "text": [
      "{'maths': 67, 'science': 95, 'history': 45}\n"
     ]
    }
   ],
   "source": [
    "sub_marks.update({'science':95})\n",
    "print(sub_marks)"
   ]
  },
  {
   "cell_type": "code",
   "execution_count": 113,
   "id": "baa49df2-cca5-47a4-a837-005755277f14",
   "metadata": {},
   "outputs": [
    {
     "name": "stdout",
     "output_type": "stream",
     "text": [
      "{'maths': 67, 'science': 95, 'history': 88}\n"
     ]
    }
   ],
   "source": [
    "sub_marks.update({'history':88})\n",
    "print(sub_marks)"
   ]
  },
  {
   "cell_type": "code",
   "execution_count": null,
   "id": "43bd0c98-fcd6-4227-8684-e97e2edfc5a1",
   "metadata": {},
   "outputs": [],
   "source": [
    "array1d=np.array"
   ]
  }
 ],
 "metadata": {
  "kernelspec": {
   "display_name": "Python 3 (ipykernel)",
   "language": "python",
   "name": "python3"
  },
  "language_info": {
   "codemirror_mode": {
    "name": "ipython",
    "version": 3
   },
   "file_extension": ".py",
   "mimetype": "text/x-python",
   "name": "python",
   "nbconvert_exporter": "python",
   "pygments_lexer": "ipython3",
   "version": "3.13.5"
  }
 },
 "nbformat": 4,
 "nbformat_minor": 5
}
