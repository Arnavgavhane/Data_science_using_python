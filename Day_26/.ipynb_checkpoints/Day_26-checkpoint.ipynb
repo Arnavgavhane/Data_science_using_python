{
 "cells": [
  {
   "cell_type": "markdown",
   "id": "bc764b1e-fb5e-4ba9-ae30-b5f7f2fe260f",
   "metadata": {},
   "source": [
    "# RNN on Text data(Sentiment Analysis)"
   ]
  },
  {
   "cell_type": "markdown",
   "id": "1ca406de-7e0a-47d5-b143-bb3a41a92450",
   "metadata": {},
   "source": [
    "## what is RNN \n",
    "- RNN = Recurrent Neural Network\n",
    "- used for Sequential Data(text,time series etc)\n",
    "- it remembers previous inputs in a sequence\n",
    "- why its useful : words in a sentence have order and context - RNN can remember what came before "
   ]
  },
  {
   "cell_type": "markdown",
   "id": "916a5106-cfeb-4c1c-bcf0-ae6519ac9ebe",
   "metadata": {},
   "source": [
    "## Limitations of vanilla RNN\n",
    "- Struggle with long term dependencies(i.e remembering words from much earlier)\n",
    "- this is fixed by LSTM(long short-term memory) and GRU (gated recurrent unit)"
   ]
  },
  {
   "cell_type": "markdown",
   "id": "55e3e79e-6c3e-458d-9ee9-f1d6b5fd9214",
   "metadata": {},
   "source": [
    "## what is sentiment analysis\n",
    "- A task where we classify text into positive or negative sentiment\n",
    "- for example - \"i love this movie\"=> Positive"
   ]
  },
  {
   "cell_type": "markdown",
   "id": "5627d785-a80f-4a53-a63b-b23dd301f843",
   "metadata": {},
   "source": [
    "### Dataset\n",
    "- we will use imdb movies review dataset(comes with Keras)\n",
    "- it has 25000 training reviews\n",
    "- 25000 testing reviews\n",
    "- already labelled as 0 (negative) or numeric 1(positive)"
   ]
  }
 ],
 "metadata": {
  "kernelspec": {
   "display_name": "Python 3 (ipykernel)",
   "language": "python",
   "name": "python3"
  },
  "language_info": {
   "codemirror_mode": {
    "name": "ipython",
    "version": 3
   },
   "file_extension": ".py",
   "mimetype": "text/x-python",
   "name": "python",
   "nbconvert_exporter": "python",
   "pygments_lexer": "ipython3",
   "version": "3.13.5"
  }
 },
 "nbformat": 4,
 "nbformat_minor": 5
}
