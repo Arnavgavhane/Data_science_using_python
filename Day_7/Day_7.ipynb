{
 "cells": [
  {
   "cell_type": "markdown",
   "id": "7562dd7c-cd70-4308-b2ab-af8d6ba4fb48",
   "metadata": {},
   "source": [
    "# linear algebra for machine learning"
   ]
  },
  {
   "cell_type": "markdown",
   "id": "c2d2e7b1-89fc-470b-9f4a-df9c5452a2ae",
   "metadata": {},
   "source": [
    "#### vectors and dot products"
   ]
  },
  {
   "cell_type": "code",
   "execution_count": 1,
   "id": "3d40421a-35ee-4aff-95cf-95690e4c9b34",
   "metadata": {},
   "outputs": [],
   "source": [
    "import numpy as np"
   ]
  },
  {
   "cell_type": "code",
   "execution_count": 6,
   "id": "e1173e51-0f92-4c61-9636-1dd41efe85fe",
   "metadata": {},
   "outputs": [
    {
     "name": "stdout",
     "output_type": "stream",
     "text": [
      "32\n"
     ]
    }
   ],
   "source": [
    "## vectors and dot product\n",
    "array1=np.array([1,2,3])\n",
    "array2=np.array([4,5,6])\n",
    "print(np.dot(array1,array2))"
   ]
  },
  {
   "cell_type": "markdown",
   "id": "05463477-42a4-4cc1-bc93-41315f4dc0e9",
   "metadata": {},
   "source": [
    "#### matrices and operations (2d)"
   ]
  },
  {
   "cell_type": "code",
   "execution_count": 11,
   "id": "7dcef8c8-a7c4-4bdb-8169-65a38ff9be0c",
   "metadata": {},
   "outputs": [
    {
     "name": "stdout",
     "output_type": "stream",
     "text": [
      "[[1 2]\n",
      " [3 4]]\n",
      "[[5 6]\n",
      " [7 8]]\n"
     ]
    }
   ],
   "source": [
    "a=np.array([[1,2],[3,4]])\n",
    "b=np.array([[5,6],[7,8]])\n",
    "print(a)\n",
    "print(b)"
   ]
  },
  {
   "cell_type": "code",
   "execution_count": 13,
   "id": "c21c3f69-5858-423f-9f5f-359b34c2bef0",
   "metadata": {},
   "outputs": [
    {
     "name": "stdout",
     "output_type": "stream",
     "text": [
      "[[1 2 3]\n",
      " [0 1 4]\n",
      " [5 6 0]]\n",
      "[[10 11 12]\n",
      " [13 14 15]\n",
      " [16 17 18]]\n"
     ]
    }
   ],
   "source": [
    "c=np.array([[1,2,3],[0,1,4],[5,6,0]])\n",
    "d=np.array([[10,11,12],[13,14,15],[16,17,18]])\n",
    "print(c)\n",
    "print(d)"
   ]
  },
  {
   "cell_type": "markdown",
   "id": "569e7e78-f6eb-4c68-b596-683bdc6f36fb",
   "metadata": {},
   "source": [
    "#### addition and subtraction of matrix(2 elements)"
   ]
  },
  {
   "cell_type": "code",
   "execution_count": 14,
   "id": "1a387f75-1b25-458a-89dc-4fd8da5b823a",
   "metadata": {},
   "outputs": [
    {
     "name": "stdout",
     "output_type": "stream",
     "text": [
      "a+b\n",
      " [[ 6  8]\n",
      " [10 12]]\n",
      "a-b\n",
      " [[-4 -4]\n",
      " [-4 -4]]\n"
     ]
    }
   ],
   "source": [
    "print(\"a+b\\n\",a+b)\n",
    "print(\"a-b\\n\",a-b)"
   ]
  },
  {
   "cell_type": "markdown",
   "id": "8a09cc55-ccad-457f-b28b-ff0d7b36ec60",
   "metadata": {},
   "source": [
    "#### addition and subtraction of matrix(3 elements)"
   ]
  },
  {
   "cell_type": "code",
   "execution_count": 16,
   "id": "5d8f8166-2de5-4c0a-ad34-c3837245c602",
   "metadata": {},
   "outputs": [
    {
     "name": "stdout",
     "output_type": "stream",
     "text": [
      "c+d\n",
      " [[11 13 15]\n",
      " [13 15 19]\n",
      " [21 23 18]]\n",
      "c-d\n",
      " [[ -9  -9  -9]\n",
      " [-13 -13 -11]\n",
      " [-11 -11 -18]]\n"
     ]
    }
   ],
   "source": [
    "print(\"c+d\\n\",c+d)\n",
    "print(\"c-d\\n\",c-d)"
   ]
  },
  {
   "cell_type": "code",
   "execution_count": null,
   "id": "babf771e-64d1-42a8-adcd-cf666e71e23b",
   "metadata": {},
   "outputs": [],
   "source": []
  }
 ],
 "metadata": {
  "kernelspec": {
   "display_name": "Python 3 (ipykernel)",
   "language": "python",
   "name": "python3"
  },
  "language_info": {
   "codemirror_mode": {
    "name": "ipython",
    "version": 3
   },
   "file_extension": ".py",
   "mimetype": "text/x-python",
   "name": "python",
   "nbconvert_exporter": "python",
   "pygments_lexer": "ipython3",
   "version": "3.13.5"
  }
 },
 "nbformat": 4,
 "nbformat_minor": 5
}
