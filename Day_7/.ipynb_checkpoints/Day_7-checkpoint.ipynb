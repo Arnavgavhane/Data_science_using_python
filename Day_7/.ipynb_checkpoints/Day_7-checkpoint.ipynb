{
 "cells": [
  {
   "cell_type": "markdown",
   "id": "7562dd7c-cd70-4308-b2ab-af8d6ba4fb48",
   "metadata": {},
   "source": [
    "# linear algebra for machine learning"
   ]
  },
  {
   "cell_type": "markdown",
   "id": "c2d2e7b1-89fc-470b-9f4a-df9c5452a2ae",
   "metadata": {},
   "source": [
    "#### vectors and dot products"
   ]
  },
  {
   "cell_type": "code",
   "execution_count": 17,
   "id": "3d40421a-35ee-4aff-95cf-95690e4c9b34",
   "metadata": {},
   "outputs": [],
   "source": [
    "import numpy as np"
   ]
  },
  {
   "cell_type": "code",
   "execution_count": 23,
   "id": "e1173e51-0f92-4c61-9636-1dd41efe85fe",
   "metadata": {},
   "outputs": [
    {
     "name": "stdout",
     "output_type": "stream",
     "text": [
      "32\n"
     ]
    }
   ],
   "source": [
    "## vectors and dot product\n",
    "array1=np.array([1,2,3])\n",
    "array2=np.array([4,5,6])\n",
    "print(np.dot(array1,array2))"
   ]
  },
  {
   "cell_type": "markdown",
   "id": "05463477-42a4-4cc1-bc93-41315f4dc0e9",
   "metadata": {},
   "source": [
    "#### matrices and operations (2d)"
   ]
  },
  {
   "cell_type": "code",
   "execution_count": 19,
   "id": "7dcef8c8-a7c4-4bdb-8169-65a38ff9be0c",
   "metadata": {},
   "outputs": [
    {
     "name": "stdout",
     "output_type": "stream",
     "text": [
      "[[1 2]\n",
      " [3 4]]\n",
      "[[5 6]\n",
      " [7 8]]\n"
     ]
    }
   ],
   "source": [
    "a=np.array([[1,2],[3,4]])\n",
    "b=np.array([[5,6],[7,8]])\n",
    "print(a)\n",
    "print(b)"
   ]
  },
  {
   "cell_type": "code",
   "execution_count": 20,
   "id": "c21c3f69-5858-423f-9f5f-359b34c2bef0",
   "metadata": {},
   "outputs": [
    {
     "name": "stdout",
     "output_type": "stream",
     "text": [
      "[[1 2 3]\n",
      " [0 1 4]\n",
      " [5 6 0]]\n",
      "[[10 11 12]\n",
      " [13 14 15]\n",
      " [16 17 18]]\n"
     ]
    }
   ],
   "source": [
    "c=np.array([[1,2,3],[0,1,4],[5,6,0]])\n",
    "d=np.array([[10,11,12],[13,14,15],[16,17,18]])\n",
    "print(c)\n",
    "print(d)"
   ]
  },
  {
   "cell_type": "markdown",
   "id": "569e7e78-f6eb-4c68-b596-683bdc6f36fb",
   "metadata": {},
   "source": [
    "#### addition and subtraction of matrix(2 elements)"
   ]
  },
  {
   "cell_type": "code",
   "execution_count": 21,
   "id": "1a387f75-1b25-458a-89dc-4fd8da5b823a",
   "metadata": {},
   "outputs": [
    {
     "name": "stdout",
     "output_type": "stream",
     "text": [
      "a+b\n",
      " [[ 6  8]\n",
      " [10 12]]\n",
      "a-b\n",
      " [[-4 -4]\n",
      " [-4 -4]]\n"
     ]
    }
   ],
   "source": [
    "print(\"a+b\\n\",a+b)\n",
    "print(\"a-b\\n\",a-b)"
   ]
  },
  {
   "cell_type": "markdown",
   "id": "8a09cc55-ccad-457f-b28b-ff0d7b36ec60",
   "metadata": {},
   "source": [
    "#### addition and subtraction of matrix(3 elements)"
   ]
  },
  {
   "cell_type": "code",
   "execution_count": 22,
   "id": "5d8f8166-2de5-4c0a-ad34-c3837245c602",
   "metadata": {},
   "outputs": [
    {
     "name": "stdout",
     "output_type": "stream",
     "text": [
      "c+d\n",
      " [[11 13 15]\n",
      " [13 15 19]\n",
      " [21 23 18]]\n",
      "c-d\n",
      " [[ -9  -9  -9]\n",
      " [-13 -13 -11]\n",
      " [-11 -11 -18]]\n"
     ]
    }
   ],
   "source": [
    "print(\"c+d\\n\",c+d)\n",
    "print(\"c-d\\n\",c-d)"
   ]
  },
  {
   "cell_type": "markdown",
   "id": "7bfe9e86-aa12-4634-a6eb-970ccde040b9",
   "metadata": {},
   "source": [
    "## matrix element wise multiplication(2D)"
   ]
  },
  {
   "cell_type": "code",
   "execution_count": 24,
   "id": "7f1ff2b2-7c33-4285-986f-a69590be9e0f",
   "metadata": {},
   "outputs": [
    {
     "name": "stdout",
     "output_type": "stream",
     "text": [
      "[[ 5 12]\n",
      " [21 32]]\n"
     ]
    }
   ],
   "source": [
    "print(a*b)"
   ]
  },
  {
   "cell_type": "code",
   "execution_count": 25,
   "id": "bff1a0f2-bd96-43b9-a152-425c39d08d84",
   "metadata": {},
   "outputs": [
    {
     "name": "stdout",
     "output_type": "stream",
     "text": [
      "[[ 10  22  36]\n",
      " [  0  14  60]\n",
      " [ 80 102   0]]\n"
     ]
    }
   ],
   "source": [
    " print(c*d)"
   ]
  },
  {
   "cell_type": "markdown",
   "id": "b0134317-5a33-4f8d-a796-26401677966e",
   "metadata": {},
   "source": [
    "## dot product of 2D array"
   ]
  },
  {
   "cell_type": "code",
   "execution_count": 26,
   "id": "3150fd26-841a-4488-b028-622488b8d04b",
   "metadata": {},
   "outputs": [
    {
     "name": "stdout",
     "output_type": "stream",
     "text": [
      "[[19 22]\n",
      " [43 50]]\n"
     ]
    }
   ],
   "source": [
    "print(a@b)"
   ]
  },
  {
   "cell_type": "code",
   "execution_count": 27,
   "id": "b53105f8-981a-40fd-a37b-5a9bb53a5183",
   "metadata": {},
   "outputs": [
    {
     "name": "stdout",
     "output_type": "stream",
     "text": [
      "[[ 84  90  96]\n",
      " [ 77  82  87]\n",
      " [128 139 150]]\n"
     ]
    }
   ],
   "source": [
    "print(c@d)"
   ]
  },
  {
   "cell_type": "markdown",
   "id": "b532eebd-27a8-465e-9882-7f8b19b10bcc",
   "metadata": {},
   "source": [
    "### transpose of matrix"
   ]
  },
  {
   "cell_type": "code",
   "execution_count": 29,
   "id": "044e5172-573e-45f5-a0e2-6caecbb7c434",
   "metadata": {},
   "outputs": [
    {
     "name": "stdout",
     "output_type": "stream",
     "text": [
      "[[1 3]\n",
      " [2 4]]\n"
     ]
    }
   ],
   "source": [
    "print(a.T)"
   ]
  },
  {
   "cell_type": "code",
   "execution_count": 30,
   "id": "1749ce01-5e5f-4283-b1ed-ac94a3f7dd10",
   "metadata": {},
   "outputs": [
    {
     "name": "stdout",
     "output_type": "stream",
     "text": [
      "[[1 0 5]\n",
      " [2 1 6]\n",
      " [3 4 0]]\n"
     ]
    }
   ],
   "source": [
    "print(c.T)"
   ]
  },
  {
   "cell_type": "markdown",
   "id": "d7ca4309-6aca-411e-b25e-cb73d8a2b031",
   "metadata": {},
   "source": [
    "### identity matrix "
   ]
  },
  {
   "cell_type": "code",
   "execution_count": 33,
   "id": "3651e4d9-6a51-40cf-befa-8792e47f870b",
   "metadata": {},
   "outputs": [
    {
     "name": "stdout",
     "output_type": "stream",
     "text": [
      "[[1. 0. 0. 0. 0.]\n",
      " [0. 1. 0. 0. 0.]\n",
      " [0. 0. 1. 0. 0.]\n",
      " [0. 0. 0. 1. 0.]\n",
      " [0. 0. 0. 0. 1.]]\n"
     ]
    }
   ],
   "source": [
    "I=np.eye(5)\n",
    "print(I)"
   ]
  },
  {
   "cell_type": "markdown",
   "id": "4b777c3c-d636-4fa9-9210-045fae433a2f",
   "metadata": {},
   "source": [
    "### matrices and operations (3d)"
   ]
  },
  {
   "cell_type": "code",
   "execution_count": 48,
   "id": "1de10f00-a7d0-410b-a2d2-578f5afc799b",
   "metadata": {},
   "outputs": [
    {
     "name": "stdout",
     "output_type": "stream",
     "text": [
      "[[[1 2 3]\n",
      "  [4 5 6]]\n",
      "\n",
      " [[0 2 1]\n",
      "  [2 1 1]]]\n",
      "[[[2 1]\n",
      "  [0 1]\n",
      "  [1 2]]\n",
      "\n",
      " [[0 1]\n",
      "  [1 3]\n",
      "  [0 3]]]\n"
     ]
    }
   ],
   "source": [
    "x=np.array([\n",
    "             [\n",
    "                 [1,2,3],\n",
    "                 [4,5,6]\n",
    "                 \n",
    "             ],\n",
    "             [\n",
    "                 [0,2,1],\n",
    "                 [2,1,1]\n",
    "                   \n",
    "             ]\n",
    "           ])\n",
    "y=np.array([\n",
    "             [\n",
    "                 [2,1],\n",
    "                 [0,1],\n",
    "                 [1,2]\n",
    "             ],\n",
    "             [\n",
    "                 [0,1],\n",
    "                 [1,3],\n",
    "                 [0,3]\n",
    "             ]\n",
    "           ])\n",
    "print(x)\n",
    "print(y)"
   ]
  },
  {
   "cell_type": "code",
   "execution_count": 49,
   "id": "8163baa7-0ea1-45dd-9cd6-e338605dd023",
   "metadata": {},
   "outputs": [
    {
     "ename": "ValueError",
     "evalue": "operands could not be broadcast together with shapes (2,2,3) (2,3,2) ",
     "output_type": "error",
     "traceback": [
      "\u001b[31m---------------------------------------------------------------------------\u001b[39m",
      "\u001b[31mValueError\u001b[39m                                Traceback (most recent call last)",
      "\u001b[36mCell\u001b[39m\u001b[36m \u001b[39m\u001b[32mIn[49]\u001b[39m\u001b[32m, line 2\u001b[39m\n\u001b[32m      1\u001b[39m \u001b[38;5;66;03m#addition of 3d matrices\u001b[39;00m\n\u001b[32m----> \u001b[39m\u001b[32m2\u001b[39m \u001b[38;5;28mprint\u001b[39m(\u001b[33m\"\u001b[39m\u001b[33mx+y\u001b[39m\u001b[38;5;130;01m\\n\u001b[39;00m\u001b[33m\"\u001b[39m,\u001b[43mx\u001b[49m\u001b[43m+\u001b[49m\u001b[43my\u001b[49m)\n",
      "\u001b[31mValueError\u001b[39m: operands could not be broadcast together with shapes (2,2,3) (2,3,2) "
     ]
    }
   ],
   "source": [
    "#addition of 3d matrices\n",
    "print(\"x+y\\n\",x+y)"
   ]
  },
  {
   "cell_type": "code",
   "execution_count": 53,
   "id": "2ae6c778-7584-44e3-888d-df0c04e7db2e",
   "metadata": {},
   "outputs": [
    {
     "ename": "ValueError",
     "evalue": "operands could not be broadcast together with shapes (2,2,3) (2,3,2) ",
     "output_type": "error",
     "traceback": [
      "\u001b[31m---------------------------------------------------------------------------\u001b[39m",
      "\u001b[31mValueError\u001b[39m                                Traceback (most recent call last)",
      "\u001b[36mCell\u001b[39m\u001b[36m \u001b[39m\u001b[32mIn[53]\u001b[39m\u001b[32m, line 2\u001b[39m\n\u001b[32m      1\u001b[39m \u001b[38;5;66;03m# subtraction of 3d matrices\u001b[39;00m\n\u001b[32m----> \u001b[39m\u001b[32m2\u001b[39m \u001b[38;5;28mprint\u001b[39m(\u001b[33m\"\u001b[39m\u001b[33mx-y\u001b[39m\u001b[38;5;130;01m\\n\u001b[39;00m\u001b[33m\"\u001b[39m,\u001b[43mx\u001b[49m\u001b[43m-\u001b[49m\u001b[43my\u001b[49m)\n",
      "\u001b[31mValueError\u001b[39m: operands could not be broadcast together with shapes (2,2,3) (2,3,2) "
     ]
    }
   ],
   "source": [
    "# subtraction of 3d matrices\n",
    "print(\"x-y\\n\",x-y)"
   ]
  },
  {
   "cell_type": "code",
   "execution_count": 52,
   "id": "2dab4fe1-db1a-48c3-a5cd-20b2e710a635",
   "metadata": {},
   "outputs": [
    {
     "ename": "ValueError",
     "evalue": "operands could not be broadcast together with shapes (2,2,3) (2,3,2) ",
     "output_type": "error",
     "traceback": [
      "\u001b[31m---------------------------------------------------------------------------\u001b[39m",
      "\u001b[31mValueError\u001b[39m                                Traceback (most recent call last)",
      "\u001b[36mCell\u001b[39m\u001b[36m \u001b[39m\u001b[32mIn[52]\u001b[39m\u001b[32m, line 2\u001b[39m\n\u001b[32m      1\u001b[39m \u001b[38;5;66;03m# matrix multiplicaton\u001b[39;00m\n\u001b[32m----> \u001b[39m\u001b[32m2\u001b[39m \u001b[38;5;28mprint\u001b[39m(\u001b[43mx\u001b[49m\u001b[43m*\u001b[49m\u001b[43my\u001b[49m)\n",
      "\u001b[31mValueError\u001b[39m: operands could not be broadcast together with shapes (2,2,3) (2,3,2) "
     ]
    }
   ],
   "source": [
    "# matrix multiplicaton\n",
    "print(x*y)"
   ]
  },
  {
   "cell_type": "code",
   "execution_count": 51,
   "id": "9c7964f3-625e-4905-b85d-67dcc5b91b9e",
   "metadata": {},
   "outputs": [
    {
     "name": "stdout",
     "output_type": "stream",
     "text": [
      "(2, 2, 3)\n",
      "(2, 3, 2)\n",
      "[[[ 5  9]\n",
      "  [14 21]]\n",
      "\n",
      " [[ 2  9]\n",
      "  [ 1  8]]]\n"
     ]
    }
   ],
   "source": [
    "# matrix dot product pf 3d matrices\n",
    "\n",
    "print(x.shape)\n",
    "print(y.shape)\n",
    "print(x@y)"
   ]
  },
  {
   "cell_type": "code",
   "execution_count": 54,
   "id": "955ec5b1-2c42-4d45-9934-359281640c29",
   "metadata": {},
   "outputs": [
    {
     "name": "stdout",
     "output_type": "stream",
     "text": [
      "[[[1 0]\n",
      "  [4 2]]\n",
      "\n",
      " [[2 2]\n",
      "  [5 1]]\n",
      "\n",
      " [[3 1]\n",
      "  [6 1]]]\n",
      "[[[2 0]\n",
      "  [0 1]\n",
      "  [1 0]]\n",
      "\n",
      " [[1 1]\n",
      "  [1 3]\n",
      "  [2 3]]]\n"
     ]
    }
   ],
   "source": [
    "print(x.T)\n",
    "print(y.T)"
   ]
  },
  {
   "cell_type": "code",
   "execution_count": null,
   "id": "f79f5e7d-1665-4aa2-90fd-03bf11d652dd",
   "metadata": {},
   "outputs": [],
   "source": []
  }
 ],
 "metadata": {
  "kernelspec": {
   "display_name": "Python 3 (ipykernel)",
   "language": "python",
   "name": "python3"
  },
  "language_info": {
   "codemirror_mode": {
    "name": "ipython",
    "version": 3
   },
   "file_extension": ".py",
   "mimetype": "text/x-python",
   "name": "python",
   "nbconvert_exporter": "python",
   "pygments_lexer": "ipython3",
   "version": "3.13.5"
  }
 },
 "nbformat": 4,
 "nbformat_minor": 5
}
