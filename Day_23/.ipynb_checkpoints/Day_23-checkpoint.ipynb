{
 "cells": [
  {
   "cell_type": "markdown",
   "id": "69669939-5173-497f-b962-acfbcbb76ba0",
   "metadata": {},
   "source": [
    "# What is TensorFlow & Keras?\n",
    "`TensorFlow` = Google's Deep Learning framework \n",
    "\n",
    "Keras= User-friendly wrapper over TensorFlow, makes building neural networks super easy"
   ]
  },
  {
   "cell_type": "markdown",
   "id": "d0148061-d8c0-475c-a1ee-a1a92a852f73",
   "metadata": {},
   "source": [
    "## What is an ANN (Artificial Neural Network)?\n",
    "Imagine:\n",
    "- Input layer = Receives raw data\n",
    "- Hidden layers = Process & learn patterns\n",
    "- Output layer = Gives prediction"
   ]
  },
  {
   "cell_type": "code",
   "execution_count": null,
   "id": "9e8722db-dc91-436e-a7fb-eb3047010899",
   "metadata": {},
   "outputs": [],
   "source": []
  }
 ],
 "metadata": {
  "kernelspec": {
   "display_name": "Python 3 (ipykernel)",
   "language": "python",
   "name": "python3"
  },
  "language_info": {
   "codemirror_mode": {
    "name": "ipython",
    "version": 3
   },
   "file_extension": ".py",
   "mimetype": "text/x-python",
   "name": "python",
   "nbconvert_exporter": "python",
   "pygments_lexer": "ipython3",
   "version": "3.13.5"
  }
 },
 "nbformat": 4,
 "nbformat_minor": 5
}
