{
 "cells": [
  {
   "cell_type": "markdown",
   "id": "579ea769-3e3b-4155-9c57-91cf5a56d54a",
   "metadata": {},
   "source": [
    "# probability and statistics"
   ]
  },
  {
   "cell_type": "code",
   "execution_count": 1,
   "id": "42d4134f-a79f-4a7a-bfe2-cb31e23e7fc9",
   "metadata": {},
   "outputs": [],
   "source": [
    "import numpy as np\n",
    "import pandas as pd\n",
    "import matplotlib.pyplot as plt\n",
    "import seaborn as sns"
   ]
  },
  {
   "cell_type": "code",
   "execution_count": 2,
   "id": "48e4e07d-7f1a-4020-95c5-f943ea60f804",
   "metadata": {},
   "outputs": [],
   "source": [
    "from collections import Counter"
   ]
  },
  {
   "cell_type": "code",
   "execution_count": 3,
   "id": "82f3730f-67fe-4a68-8d89-cbb79c648120",
   "metadata": {},
   "outputs": [],
   "source": [
    "sns.set(style='whitegrid')"
   ]
  },
  {
   "cell_type": "code",
   "execution_count": 4,
   "id": "bfda0508-0016-469e-ad1b-8af0abee4aa8",
   "metadata": {},
   "outputs": [
    {
     "name": "stdout",
     "output_type": "stream",
     "text": [
      "[9, 5, 7, 2, 0, 8, 2, 8, 6, 10]\n"
     ]
    }
   ],
   "source": [
    "marks=[9,5,7,2,0,8,2,8,6,10]\n",
    "print(marks)"
   ]
  },
  {
   "cell_type": "code",
   "execution_count": 5,
   "id": "3f35a9c7-36c2-41b0-96f5-dfe0930bf67a",
   "metadata": {},
   "outputs": [
    {
     "name": "stdout",
     "output_type": "stream",
     "text": [
      "   Marks\n",
      "0      9\n",
      "1      5\n",
      "2      7\n",
      "3      2\n",
      "4      0\n",
      "5      8\n",
      "6      2\n",
      "7      8\n",
      "8      6\n",
      "9     10\n"
     ]
    }
   ],
   "source": [
    "df=pd.DataFrame({'Marks':marks})\n",
    "print(df)"
   ]
  },
  {
   "cell_type": "markdown",
   "id": "837cafc3-bc66-4dca-9198-17f533904f4e",
   "metadata": {},
   "source": [
    "## mean"
   ]
  },
  {
   "cell_type": "code",
   "execution_count": 6,
   "id": "4bd6a036-68f5-49da-b835-f2c7821e10d8",
   "metadata": {},
   "outputs": [
    {
     "name": "stdout",
     "output_type": "stream",
     "text": [
      "5.7\n"
     ]
    }
   ],
   "source": [
    "mean_values=np.mean(marks)\n",
    "print(mean_values)"
   ]
  },
  {
   "cell_type": "markdown",
   "id": "3a3b2efd-4b66-48fe-8da3-9d4cb8669846",
   "metadata": {},
   "source": [
    "## median"
   ]
  },
  {
   "cell_type": "code",
   "execution_count": 7,
   "id": "36773984-f4db-4f99-ae21-b89ebc80ad80",
   "metadata": {},
   "outputs": [
    {
     "name": "stdout",
     "output_type": "stream",
     "text": [
      "6.5\n"
     ]
    }
   ],
   "source": [
    "median_value=np.median(marks)\n",
    "print(median_value)"
   ]
  },
  {
   "cell_type": "code",
   "execution_count": 8,
   "id": "ad7cbaac-aaa5-47af-a348-696d67f0cae0",
   "metadata": {},
   "outputs": [
    {
     "name": "stdout",
     "output_type": "stream",
     "text": [
      "8\n"
     ]
    }
   ],
   "source": [
    "mode_value=Counter(marks).most_common(3)[1][0] #hw\n",
    "print(mode_value)"
   ]
  },
  {
   "cell_type": "code",
   "execution_count": 9,
   "id": "bee4471d-5291-4105-896e-139fa16e30b0",
   "metadata": {},
   "outputs": [
    {
     "name": "stdout",
     "output_type": "stream",
     "text": [
      "3.1953090617340916\n"
     ]
    }
   ],
   "source": [
    "std=np.std(marks)\n",
    "print(std)"
   ]
  },
  {
   "cell_type": "code",
   "execution_count": 10,
   "id": "7d4b7e44-fe18-4043-a07c-3af45fd3e017",
   "metadata": {},
   "outputs": [
    {
     "name": "stdout",
     "output_type": "stream",
     "text": [
      "10.21\n"
     ]
    }
   ],
   "source": [
    "var_value=np.var(marks)\n",
    "print(var_value)"
   ]
  },
  {
   "cell_type": "code",
   "execution_count": 11,
   "id": "05fbb1ab-99fc-4873-95f0-c19530156d03",
   "metadata": {},
   "outputs": [
    {
     "name": "stdout",
     "output_type": "stream",
     "text": [
      "10.21\n"
     ]
    }
   ],
   "source": [
    "print(std**2)"
   ]
  },
  {
   "cell_type": "code",
   "execution_count": 18,
   "id": "94237e5c-bda8-4cbf-93e9-e8a63bdc2216",
   "metadata": {},
   "outputs": [
    {
     "name": "stdout",
     "output_type": "stream",
     "text": [
      "the no. is positive\n"
     ]
    }
   ],
   "source": [
    "n=10\n",
    "def check():\n",
    " if n>0:\n",
    "  print(\"the no. is positive\")\n",
    " elif n<0:\n",
    "  print(\"the no. is negative\")\n",
    " else :\n",
    "  print(\"the no is zero\")\n",
    "check()"
   ]
  },
  {
   "cell_type": "code",
   "execution_count": 19,
   "id": "a82ba6c3-4e59-47d5-91ef-a671ea36a070",
   "metadata": {},
   "outputs": [
    {
     "name": "stdout",
     "output_type": "stream",
     "text": [
      "odd\n"
     ]
    }
   ],
   "source": [
    "def check_even(n):\n",
    "    if n%2==0:\n",
    "        print(\"even\")\n",
    "    else :\n",
    "        print(\"odd\")\n",
    "check_even(5)"
   ]
  },
  {
   "cell_type": "code",
   "execution_count": 23,
   "id": "71a50253-291e-4aac-8b99-a7e9fd963517",
   "metadata": {},
   "outputs": [
    {
     "ename": "NameError",
     "evalue": "name 'array' is not defined",
     "output_type": "error",
     "traceback": [
      "\u001b[31m---------------------------------------------------------------------------\u001b[39m",
      "\u001b[31mNameError\u001b[39m                                 Traceback (most recent call last)",
      "\u001b[36mCell\u001b[39m\u001b[36m \u001b[39m\u001b[32mIn[23]\u001b[39m\u001b[32m, line 6\u001b[39m\n\u001b[32m      4\u001b[39m         \u001b[38;5;28;01mif\u001b[39;00m i%\u001b[32m2\u001b[39m==\u001b[32m0\u001b[39m:\n\u001b[32m      5\u001b[39m          \u001b[38;5;28mprint\u001b[39m(array.append(i))\n\u001b[32m----> \u001b[39m\u001b[32m6\u001b[39m \u001b[38;5;28;43mlist\u001b[39;49m\u001b[43m(\u001b[49m\u001b[32;43m10\u001b[39;49m\u001b[43m,\u001b[49m\u001b[32;43m30\u001b[39;49m\u001b[43m)\u001b[49m\n",
      "\u001b[36mCell\u001b[39m\u001b[36m \u001b[39m\u001b[32mIn[23]\u001b[39m\u001b[32m, line 2\u001b[39m, in \u001b[36mlist\u001b[39m\u001b[34m(a, b)\u001b[39m\n\u001b[32m      1\u001b[39m \u001b[38;5;28;01mdef\u001b[39;00m\u001b[38;5;250m \u001b[39m\u001b[34mlist\u001b[39m(a,b):\n\u001b[32m----> \u001b[39m\u001b[32m2\u001b[39m     \u001b[43marray\u001b[49m[i]=\u001b[32m0\u001b[39m\n\u001b[32m      3\u001b[39m     \u001b[38;5;28;01mfor\u001b[39;00m i \u001b[38;5;129;01min\u001b[39;00m \u001b[38;5;28mrange\u001b[39m(a,b):\n\u001b[32m      4\u001b[39m         \u001b[38;5;28;01mif\u001b[39;00m i%\u001b[32m2\u001b[39m==\u001b[32m0\u001b[39m:\n",
      "\u001b[31mNameError\u001b[39m: name 'array' is not defined"
     ]
    }
   ],
   "source": [
    "def list(a,b):\n",
    "    array[i]=0\n",
    "    for i in range(a,b):\n",
    "        if i%2==0:\n",
    "         print(array.append(i))\n",
    "list(10,30)"
   ]
  },
  {
   "cell_type": "code",
   "execution_count": null,
   "id": "1abd1a9a-683e-4e6d-9017-e18088cf86e7",
   "metadata": {},
   "outputs": [],
   "source": [
    "\n",
    "def dict():\n",
    "    for i in range(0,len)"
   ]
  }
 ],
 "metadata": {
  "kernelspec": {
   "display_name": "Python 3 (ipykernel)",
   "language": "python",
   "name": "python3"
  },
  "language_info": {
   "codemirror_mode": {
    "name": "ipython",
    "version": 3
   },
   "file_extension": ".py",
   "mimetype": "text/x-python",
   "name": "python",
   "nbconvert_exporter": "python",
   "pygments_lexer": "ipython3",
   "version": "3.13.5"
  }
 },
 "nbformat": 4,
 "nbformat_minor": 5
}
