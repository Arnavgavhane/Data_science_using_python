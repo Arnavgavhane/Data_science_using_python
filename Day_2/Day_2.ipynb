{
 "cells": [
  {
   "cell_type": "markdown",
   "id": "3953ce63-e1b7-4268-8e96-b17ca658ba11",
   "metadata": {},
   "source": [
    "# list\n"
   ]
  },
  {
   "cell_type": "code",
   "execution_count": 61,
   "id": "75e02e7e-b76a-4533-b147-67ebc4e6f8e5",
   "metadata": {},
   "outputs": [
    {
     "name": "stdout",
     "output_type": "stream",
     "text": [
      "[1, 2, 3, 4, 5]\n"
     ]
    }
   ],
   "source": [
    "list=[1,2,3,4,5]\n",
    "print(list)"
   ]
  },
  {
   "cell_type": "code",
   "execution_count": 62,
   "id": "5238141d-fa89-496e-bb77-043abb241a65",
   "metadata": {},
   "outputs": [
    {
     "name": "stdout",
     "output_type": "stream",
     "text": [
      "[1, 2, 3, 4, 5, 6]\n"
     ]
    }
   ],
   "source": [
    "list.append(6)\n",
    "print(list)"
   ]
  },
  {
   "cell_type": "code",
   "execution_count": 63,
   "id": "039cbb10-3583-450e-8f40-37172cf63412",
   "metadata": {},
   "outputs": [
    {
     "name": "stdout",
     "output_type": "stream",
     "text": [
      "[1, 2, 3, 5, 4, 5, 6]\n"
     ]
    }
   ],
   "source": [
    "list.insert(3,5)\n",
    "print(list)"
   ]
  },
  {
   "cell_type": "code",
   "execution_count": 64,
   "id": "1786b3fc-d47d-4bd3-a6f4-621d04846b49",
   "metadata": {},
   "outputs": [
    {
     "name": "stdout",
     "output_type": "stream",
     "text": [
      "[1, 2, 3, 4, 5, 6]\n"
     ]
    }
   ],
   "source": [
    "list.remove(5)\n",
    "print(list)"
   ]
  },
  {
   "cell_type": "code",
   "execution_count": 65,
   "id": "e24177ff-16de-4302-80ca-19ddac972450",
   "metadata": {},
   "outputs": [
    {
     "name": "stdout",
     "output_type": "stream",
     "text": [
      "[1, 2, 3, 4, 5]\n"
     ]
    }
   ],
   "source": [
    "list.pop()\n",
    "print(list)"
   ]
  },
  {
   "cell_type": "code",
   "execution_count": 66,
   "id": "2a3cab97-205c-470e-b676-cc80f46bf076",
   "metadata": {},
   "outputs": [
    {
     "name": "stdout",
     "output_type": "stream",
     "text": [
      "2\n"
     ]
    }
   ],
   "source": [
    "print(list.index(3))\n"
   ]
  },
  {
   "cell_type": "code",
   "execution_count": 67,
   "id": "27d1167a-e530-4829-91af-339d76c49fa4",
   "metadata": {},
   "outputs": [
    {
     "name": "stdout",
     "output_type": "stream",
     "text": [
      "1\n"
     ]
    }
   ],
   "source": [
    "print(list.count(5))"
   ]
  },
  {
   "cell_type": "code",
   "execution_count": 68,
   "id": "fed124c8-9986-4639-8e15-0afc7101b669",
   "metadata": {},
   "outputs": [
    {
     "name": "stdout",
     "output_type": "stream",
     "text": [
      "[42, 36, 10, 5]\n"
     ]
    }
   ],
   "source": [
    "list1=[5,10,36,42]\n",
    "list1.reverse()\n",
    "print(list1)"
   ]
  },
  {
   "cell_type": "code",
   "execution_count": 69,
   "id": "b54d2593-a239-4cdd-8255-f233be7c63b5",
   "metadata": {},
   "outputs": [
    {
     "name": "stdout",
     "output_type": "stream",
     "text": [
      "[5, 10, 36, 42]\n"
     ]
    }
   ],
   "source": [
    "list1.sort()\n",
    "print(list1)"
   ]
  },
  {
   "cell_type": "code",
   "execution_count": 70,
   "id": "b191ce38-c8c8-4c80-bb38-dd7b429da30b",
   "metadata": {},
   "outputs": [
    {
     "data": {
      "text/plain": [
       "4"
      ]
     },
     "execution_count": 70,
     "metadata": {},
     "output_type": "execute_result"
    }
   ],
   "source": [
    "len(list1)\n"
   ]
  },
  {
   "cell_type": "markdown",
   "id": "767e447d-509a-4381-9bd4-92c901e17933",
   "metadata": {},
   "source": [
    "# tuple\n",
    "\n"
   ]
  },
  {
   "cell_type": "code",
   "execution_count": 71,
   "id": "4b4153db-fdd7-4e92-b418-4f1b9411bfeb",
   "metadata": {},
   "outputs": [
    {
     "name": "stdout",
     "output_type": "stream",
     "text": [
      "(2, 4, 6, 8, 10)\n"
     ]
    }
   ],
   "source": [
    "tuple=(2,4,6,8,10)\n",
    "print(tuple)"
   ]
  },
  {
   "cell_type": "code",
   "execution_count": 72,
   "id": "ae1379d6-2b0d-4662-a199-e41f9d222057",
   "metadata": {},
   "outputs": [
    {
     "name": "stdout",
     "output_type": "stream",
     "text": [
      "1\n"
     ]
    }
   ],
   "source": [
    "print(tuple.count(6))"
   ]
  },
  {
   "cell_type": "code",
   "execution_count": 73,
   "id": "853bfb90-798d-4a77-92ed-90c4d363c164",
   "metadata": {},
   "outputs": [
    {
     "name": "stdout",
     "output_type": "stream",
     "text": [
      "1\n"
     ]
    }
   ],
   "source": [
    "print(tuple.index(4))"
   ]
  },
  {
   "cell_type": "code",
   "execution_count": 74,
   "id": "d6ea7e68-410d-4f29-8277-26fe8cd88c2a",
   "metadata": {},
   "outputs": [
    {
     "data": {
      "text/plain": [
       "5"
      ]
     },
     "execution_count": 74,
     "metadata": {},
     "output_type": "execute_result"
    }
   ],
   "source": [
    "len (tuple)"
   ]
  },
  {
   "cell_type": "code",
   "execution_count": 75,
   "id": "5625cf99-9e72-4e76-8d0c-76d17c06a1aa",
   "metadata": {},
   "outputs": [
    {
     "name": "stdout",
     "output_type": "stream",
     "text": [
      "{2, 4, 5, 7}\n"
     ]
    }
   ],
   "source": [
    "set={2,4,5,7,5}\n",
    "print(set)"
   ]
  },
  {
   "cell_type": "code",
   "execution_count": 76,
   "id": "e8618472-1c02-4a5f-a016-10b113df0a43",
   "metadata": {},
   "outputs": [
    {
     "name": "stdout",
     "output_type": "stream",
     "text": [
      "{2, 4, 5, 6, 7}\n"
     ]
    }
   ],
   "source": [
    "set.add(6)\n",
    "print(set)\n"
   ]
  },
  {
   "cell_type": "code",
   "execution_count": 77,
   "id": "ed0bd805-7f9f-49b6-89f3-b78f41abd963",
   "metadata": {},
   "outputs": [
    {
     "name": "stdout",
     "output_type": "stream",
     "text": [
      "{2, 4, 5, 6}\n"
     ]
    }
   ],
   "source": [
    "set.remove(7)\n",
    "print(set)"
   ]
  },
  {
   "cell_type": "code",
   "execution_count": 78,
   "id": "0dd08214-35bd-48fd-940b-b4ced4248f57",
   "metadata": {},
   "outputs": [
    {
     "name": "stdout",
     "output_type": "stream",
     "text": [
      "{1, 2, 3, 4, 5, 6, 7}\n"
     ]
    }
   ],
   "source": [
    "set1={1,2,3,4}\n",
    "set2={4,5,6,7,1}\n",
    "set3=set1.union(set2)\n",
    "print(set3)"
   ]
  },
  {
   "cell_type": "code",
   "execution_count": 79,
   "id": "8e317b7f-b3ee-46db-a016-692b789482d5",
   "metadata": {},
   "outputs": [
    {
     "name": "stdout",
     "output_type": "stream",
     "text": [
      "{1, 4}\n"
     ]
    }
   ],
   "source": [
    "set4=set1.intersection(set2)\n",
    "print(set4)"
   ]
  },
  {
   "cell_type": "code",
   "execution_count": 80,
   "id": "00dd3644-d31c-4d57-ad50-ea3635b1f8db",
   "metadata": {},
   "outputs": [
    {
     "name": "stdout",
     "output_type": "stream",
     "text": [
      "{2, 3}\n"
     ]
    }
   ],
   "source": [
    "set5=set1.difference(set2)\n",
    "print(set5)"
   ]
  },
  {
   "cell_type": "code",
   "execution_count": 81,
   "id": "5f4f5730-4f0f-4935-8773-3d37992a6043",
   "metadata": {},
   "outputs": [
    {
     "name": "stdout",
     "output_type": "stream",
     "text": [
      "{5, 6, 7}\n"
     ]
    }
   ],
   "source": [
    "set6=set2.difference(set1)\n",
    "print(set6)"
   ]
  },
  {
   "cell_type": "code",
   "execution_count": 82,
   "id": "8380039c-93ba-4003-9c2c-e2150db01f76",
   "metadata": {},
   "outputs": [
    {
     "data": {
      "text/plain": [
       "3"
      ]
     },
     "execution_count": 82,
     "metadata": {},
     "output_type": "execute_result"
    }
   ],
   "source": [
    "len (set6)"
   ]
  },
  {
   "cell_type": "code",
   "execution_count": 83,
   "id": "cf69a432-e363-46b9-a5b1-9dd9933996c6",
   "metadata": {},
   "outputs": [
    {
     "name": "stdout",
     "output_type": "stream",
     "text": [
      "{'name': 'arnav', 'dob': '15-10-06', 'age': 18, 'gender': 'male', 'location': 'solapur'}\n"
     ]
    }
   ],
   "source": [
    "dict={'name':'arnav','dob':'15-10-06', 'age':18, 'gender':'male','location':'solapur'}\n",
    "print(dict)"
   ]
  },
  {
   "cell_type": "code",
   "execution_count": 84,
   "id": "eded5f0c-4c86-423d-a8e2-b60a15ad1519",
   "metadata": {},
   "outputs": [
    {
     "name": "stdout",
     "output_type": "stream",
     "text": [
      "dict_keys(['name', 'dob', 'age', 'gender', 'location'])\n"
     ]
    }
   ],
   "source": [
    "\n",
    "print(dict.keys())"
   ]
  },
  {
   "cell_type": "code",
   "execution_count": 85,
   "id": "3dfd51a6-e363-4934-8e30-47a6ffb112c4",
   "metadata": {},
   "outputs": [
    {
     "name": "stdout",
     "output_type": "stream",
     "text": [
      "dict_values(['arnav', '15-10-06', 18, 'male', 'solapur'])\n"
     ]
    }
   ],
   "source": [
    "print(dict.values())"
   ]
  },
  {
   "cell_type": "code",
   "execution_count": 86,
   "id": "0ad3c306-bc57-4c08-ab84-3c3df4d5e7fb",
   "metadata": {},
   "outputs": [
    {
     "name": "stdout",
     "output_type": "stream",
     "text": [
      "dict_values(['arnav', '15-10-06', 18, 'male', 'solapur'])\n"
     ]
    }
   ],
   "source": [
    "print(dict.values())"
   ]
  },
  {
   "cell_type": "code",
   "execution_count": 87,
   "id": "3d5c3fc6-7207-4773-b164-ed0c41b1d7ef",
   "metadata": {},
   "outputs": [
    {
     "name": "stdout",
     "output_type": "stream",
     "text": [
      "dict_items([('name', 'arnav'), ('dob', '15-10-06'), ('age', 18), ('gender', 'male'), ('location', 'solapur')])\n"
     ]
    }
   ],
   "source": [
    "print(dict.items())"
   ]
  },
  {
   "cell_type": "code",
   "execution_count": 88,
   "id": "1203260f-5038-4255-a120-bc71beff1670",
   "metadata": {},
   "outputs": [
    {
     "name": "stdout",
     "output_type": "stream",
     "text": [
      "15-10-06\n"
     ]
    }
   ],
   "source": [
    "print(dict.get('dob'))"
   ]
  },
  {
   "cell_type": "code",
   "execution_count": 89,
   "id": "d2fdf722-0964-4226-80a2-8b28aae27723",
   "metadata": {},
   "outputs": [
    {
     "data": {
      "text/plain": [
       "5"
      ]
     },
     "execution_count": 89,
     "metadata": {},
     "output_type": "execute_result"
    }
   ],
   "source": [
    "len (dict)"
   ]
  },
  {
   "cell_type": "code",
   "execution_count": 90,
   "id": "c1104394-fb06-4ca3-87e7-bf89de13c818",
   "metadata": {},
   "outputs": [
    {
     "name": "stdout",
     "output_type": "stream",
     "text": [
      "{'name': 'arnav', 'dob': '15-10-06', 'gender': 'male', 'location': 'solapur'}\n"
     ]
    }
   ],
   "source": [
    "del dict['age']\n",
    "print (dict)"
   ]
  },
  {
   "cell_type": "code",
   "execution_count": 91,
   "id": "14cdd2b1-db93-4f3e-91c3-8120b75966af",
   "metadata": {},
   "outputs": [
    {
     "name": "stdout",
     "output_type": "stream",
     "text": [
      "{}\n"
     ]
    }
   ],
   "source": [
    "dict.clear()\n",
    "print(dict)"
   ]
  },
  {
   "cell_type": "code",
   "execution_count": 92,
   "id": "554ed3ca-7573-49d5-8a7a-c918900cf1a6",
   "metadata": {},
   "outputs": [
    {
     "name": "stdout",
     "output_type": "stream",
     "text": [
      "1\n",
      "2\n",
      "3\n",
      "4\n",
      "5\n",
      "6\n",
      "7\n",
      "8\n",
      "9\n",
      "10\n"
     ]
    }
   ],
   "source": [
    "for i in range(1,11):\n",
    "    print (i)"
   ]
  },
  {
   "cell_type": "code",
   "execution_count": 108,
   "id": "ae354ebe-8854-462b-91ac-1508ff4cbd5f",
   "metadata": {},
   "outputs": [
    {
     "name": "stdout",
     "output_type": "stream",
     "text": [
      "['apple', 'banana', 'orange']\n"
     ]
    }
   ],
   "source": [
    "fruits=['apple','banana','orange']\n",
    "print(fruits)"
   ]
  },
  {
   "cell_type": "code",
   "execution_count": 109,
   "id": "d68aa142-31fc-4782-b388-d2a6dc65350b",
   "metadata": {},
   "outputs": [
    {
     "name": "stdout",
     "output_type": "stream",
     "text": [
      "apple\n",
      "banana\n",
      "orange\n"
     ]
    }
   ],
   "source": [
    "for fruit in fruits:\n",
    "    print(fruit)"
   ]
  },
  {
   "cell_type": "code",
   "execution_count": 110,
   "id": "9ce98778-bf96-4f6e-8d0b-d81e1bcbf2ef",
   "metadata": {},
   "outputs": [
    {
     "name": "stdout",
     "output_type": "stream",
     "text": [
      "apple\n",
      "banana\n",
      "orange\n"
     ]
    }
   ],
   "source": [
    "for i in range(0,len(fruits)):\n",
    " print (fruits[i])"
   ]
  },
  {
   "cell_type": "code",
   "execution_count": 117,
   "id": "268191b7-3049-49ba-ac0f-d77b1885c40c",
   "metadata": {},
   "outputs": [
    {
     "name": "stdout",
     "output_type": "stream",
     "text": [
      "arnav\n",
      "arnav\n",
      "arnav\n",
      "arnav\n",
      "arnav\n",
      "arnav\n",
      "arnav\n",
      "arnav\n",
      "arnav\n",
      "arnav\n"
     ]
    }
   ],
   "source": [
    "i=1\n",
    "while i<11:\n",
    " print (\"arnav\")\n",
    " i+=1"
   ]
  },
  {
   "cell_type": "code",
   "execution_count": 120,
   "id": "b84ab7e3-f16a-4d68-a7e4-d25ab55a6b31",
   "metadata": {},
   "outputs": [
    {
     "name": "stdout",
     "output_type": "stream",
     "text": [
      "number is less than 10\n"
     ]
    }
   ],
   "source": [
    "n=7\n",
    "if n<10:\n",
    "    print(\"number is less than 10\")\n",
    "else :\n",
    "    print(\"number is greater than 10\")"
   ]
  },
  {
   "cell_type": "code",
   "execution_count": 131,
   "id": "532911aa-6e80-450a-95b7-f96c08d14556",
   "metadata": {},
   "outputs": [
    {
     "name": "stdout",
     "output_type": "stream",
     "text": [
      "you have failed the exam\n"
     ]
    }
   ],
   "source": [
    "marks=30\n",
    "if marks>=90:\n",
    "    print(\"your grade is A\")\n",
    "elif marks>=80:\n",
    "    print(\"your grade is B\")\n",
    "elif marks>=70:\n",
    "    print(\"your grade is C\")\n",
    "elif marks>=60:\n",
    "    print(\"your grade is D\")\n",
    "elif marks>=50 or marks > 35:\n",
    "    print(\"your grade is F\")\n",
    "else:\n",
    "    print(\"you have failed the exam\")"
   ]
  },
  {
   "cell_type": "code",
   "execution_count": null,
   "id": "f37169af-541c-409e-8530-5a5438b87e73",
   "metadata": {},
   "outputs": [],
   "source": []
  }
 ],
 "metadata": {
  "kernelspec": {
   "display_name": "Python 3 (ipykernel)",
   "language": "python",
   "name": "python3"
  },
  "language_info": {
   "codemirror_mode": {
    "name": "ipython",
    "version": 3
   },
   "file_extension": ".py",
   "mimetype": "text/x-python",
   "name": "python",
   "nbconvert_exporter": "python",
   "pygments_lexer": "ipython3",
   "version": "3.13.5"
  }
 },
 "nbformat": 4,
 "nbformat_minor": 5
}
